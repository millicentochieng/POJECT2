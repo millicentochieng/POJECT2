{
  "nbformat": 4,
  "nbformat_minor": 0,
  "metadata": {
    "colab": {
      "name": "Copy of mycopy_housePrice.ipynb",
      "provenance": [],
      "collapsed_sections": [],
      "include_colab_link": true
    },
    "kernelspec": {
      "name": "python3",
      "display_name": "Python 3"
    }
  },
  "cells": [
    {
      "cell_type": "markdown",
      "metadata": {
        "id": "view-in-github",
        "colab_type": "text"
      },
      "source": [
        "<a href=\"https://colab.research.google.com/github/millicentochieng/POJECT2/blob/main/Copy_of_mycopy_housePrice.ipynb\" target=\"_parent\"><img src=\"https://colab.research.google.com/assets/colab-badge.svg\" alt=\"Open In Colab\"/></a>"
      ]
    },
    {
      "cell_type": "code",
      "metadata": {
        "id": "rmsJmqhkZuM1",
        "outputId": "e2db606a-0857-44c3-fd67-b1ac6dd9e0cc",
        "colab": {
          "base_uri": "https://localhost:8080/",
          "height": 34
        }
      },
      "source": [
        "from google import colab\n",
        "colab.drive.mount('/content/gdrive')"
      ],
      "execution_count": null,
      "outputs": [
        {
          "output_type": "stream",
          "text": [
            "Mounted at /content/gdrive\n"
          ],
          "name": "stdout"
        }
      ]
    },
    {
      "cell_type": "code",
      "metadata": {
        "id": "lFwensAKvSAV",
        "outputId": "04696e25-f707-4423-ea3f-eab823e5002c",
        "colab": {
          "base_uri": "https://localhost:8080/",
          "height": 34
        }
      },
      "source": [
        "import os \n",
        "\n",
        "path = '/content/gdrive/My Drive/Colab/' # specify your directory where you want to create a folder for storing data.\n",
        "os.chdir(path) # change directory.\n",
        "\n",
        "new_folder_name='prices' # create a folder for storing data.\n",
        "\n",
        "if not os.path.exists(new_folder_name): # create a folder for storing data if it does not exist.\n",
        "    os.mkdir(new_folder_name) # make a directory\n",
        "\n",
        "os.chdir(path + '/' + new_folder_name) # change directory\n",
        "\n",
        "print(\"Current directory:\", os.getcwd())"
      ],
      "execution_count": null,
      "outputs": [
        {
          "output_type": "stream",
          "text": [
            "Current directory: /content/gdrive/My Drive/Colab/prices\n"
          ],
          "name": "stdout"
        }
      ]
    },
    {
      "cell_type": "code",
      "metadata": {
        "id": "sbXPxHs5vhmi",
        "outputId": "e4985370-f524-4a02-c73a-63dcc2375e93",
        "colab": {
          "resources": {
            "http://localhost:8080/nbextensions/google.colab/files.js": {
              "data": "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",
              "ok": true,
              "headers": [
                [
                  "content-type",
                  "application/javascript"
                ]
              ],
              "status": 200,
              "status_text": ""
            }
          },
          "base_uri": "https://localhost:8080/",
          "height": 91
        }
      },
      "source": [
        "from google.colab import files\n",
        "files.upload() # upload kaggle.json"
      ],
      "execution_count": null,
      "outputs": [
        {
          "output_type": "display_data",
          "data": {
            "text/html": [
              "\n",
              "     <input type=\"file\" id=\"files-fe0152af-3430-4c1c-9e91-c4df6c733513\" name=\"files[]\" multiple disabled\n",
              "        style=\"border:none\" />\n",
              "     <output id=\"result-fe0152af-3430-4c1c-9e91-c4df6c733513\">\n",
              "      Upload widget is only available when the cell has been executed in the\n",
              "      current browser session. Please rerun this cell to enable.\n",
              "      </output>\n",
              "      <script src=\"/nbextensions/google.colab/files.js\"></script> "
            ],
            "text/plain": [
              "<IPython.core.display.HTML object>"
            ]
          },
          "metadata": {
            "tags": []
          }
        },
        {
          "output_type": "stream",
          "text": [
            "Saving kaggle.json to kaggle (10).json\n"
          ],
          "name": "stdout"
        },
        {
          "output_type": "execute_result",
          "data": {
            "text/plain": [
              "{'kaggle.json': b'{\"username\":\"millicentochieng\",\"key\":\"323ede7ae172f1f6fac1972e315a96c8\"}'}"
            ]
          },
          "metadata": {
            "tags": []
          },
          "execution_count": 4
        }
      ]
    },
    {
      "cell_type": "code",
      "metadata": {
        "id": "zIb7_z9Ov6Qb",
        "outputId": "0ebfcfd6-986c-4d53-f0ea-f8ea035cbccc",
        "colab": {
          "base_uri": "https://localhost:8080/",
          "height": 247
        }
      },
      "source": [
        "!pip install kaggle\n",
        "from googleapiclient.discovery import build\n",
        "import io, os\n",
        "from googleapiclient.http import MediaIoBaseDownload\n",
        "from google.colab import auth\n",
        "auth.authenticate_user()\n",
        "drive_service = build('drive', 'v3')\n",
        "results = drive_service.files().list(\n",
        "        q=\"name = 'kaggle.json'\", fields=\"files(id)\").execute()\n",
        "kaggle_api_key = results.get('files', [])\n",
        "filename = \"/root/.kaggle/kaggle.json\"  \n",
        "os.makedirs(os.path.dirname(filename), exist_ok=True)\n",
        "request = drive_service.files().get_media(fileId=kaggle_api_key[0]['id'])\n",
        "fh = io.FileIO(filename, 'wb')\n",
        "downloader = MediaIoBaseDownload(fh, request)\n",
        "done = False\n",
        "while done is False:\n",
        "    status, done = downloader.next_chunk()\n",
        "    print(\"Download %d%%.\" % int(status.progress() * 100))\n",
        "os.chmod(filename, 600)"
      ],
      "execution_count": null,
      "outputs": [
        {
          "output_type": "stream",
          "text": [
            "Requirement already satisfied: kaggle in /usr/local/lib/python3.6/dist-packages (1.5.8)\n",
            "Requirement already satisfied: slugify in /usr/local/lib/python3.6/dist-packages (from kaggle) (0.0.1)\n",
            "Requirement already satisfied: urllib3<1.25,>=1.21.1 in /usr/local/lib/python3.6/dist-packages (from kaggle) (1.24.3)\n",
            "Requirement already satisfied: requests in /usr/local/lib/python3.6/dist-packages (from kaggle) (2.23.0)\n",
            "Requirement already satisfied: python-dateutil in /usr/local/lib/python3.6/dist-packages (from kaggle) (2.8.1)\n",
            "Requirement already satisfied: python-slugify in /usr/local/lib/python3.6/dist-packages (from kaggle) (4.0.1)\n",
            "Requirement already satisfied: six>=1.10 in /usr/local/lib/python3.6/dist-packages (from kaggle) (1.15.0)\n",
            "Requirement already satisfied: certifi in /usr/local/lib/python3.6/dist-packages (from kaggle) (2020.6.20)\n",
            "Requirement already satisfied: tqdm in /usr/local/lib/python3.6/dist-packages (from kaggle) (4.41.1)\n",
            "Requirement already satisfied: idna<3,>=2.5 in /usr/local/lib/python3.6/dist-packages (from requests->kaggle) (2.10)\n",
            "Requirement already satisfied: chardet<4,>=3.0.2 in /usr/local/lib/python3.6/dist-packages (from requests->kaggle) (3.0.4)\n",
            "Requirement already satisfied: text-unidecode>=1.3 in /usr/local/lib/python3.6/dist-packages (from python-slugify->kaggle) (1.3)\n",
            "Download 100%.\n"
          ],
          "name": "stdout"
        }
      ]
    },
    {
      "cell_type": "code",
      "metadata": {
        "id": "b_e9l3wMwBxb",
        "outputId": "67d32da5-6aad-4adf-da65-4b9556baad86",
        "colab": {
          "base_uri": "https://localhost:8080/",
          "height": 34
        }
      },
      "source": [
        "!kaggle datasets download camnugent/california-housing-prices"
      ],
      "execution_count": null,
      "outputs": [
        {
          "output_type": "stream",
          "text": [
            "401 - Unauthorized\n"
          ],
          "name": "stdout"
        }
      ]
    },
    {
      "cell_type": "code",
      "metadata": {
        "id": "MuZf9useyeqM"
      },
      "source": [
        "import glob\n",
        "import zipfile\n",
        "zipfiles = glob.glob(os.getcwd() + '/*.zip')\n",
        "zipfiles\n",
        "\n",
        "\n",
        "local_zip =zipfiles[0] # specify where train.zip is\n",
        "zip_ref = zipfile.ZipFile(local_zip, 'r')  # create a ZipFile object\n",
        "zip_ref.extractall() # create a folder in the current directory and get all data\n",
        "zip_ref.close() # close"
      ],
      "execution_count": null,
      "outputs": []
    },
    {
      "cell_type": "code",
      "metadata": {
        "id": "8QtwPGvdxuYY",
        "outputId": "9fde151e-8e43-4653-8bd4-92ee9a129436",
        "colab": {
          "base_uri": "https://localhost:8080/",
          "height": 34
        }
      },
      "source": [
        "!ls '/content/gdrive/My Drive/colab/prices'\n",
        "base_folder = '/content/gdrive/My Drive/Colab/prices'"
      ],
      "execution_count": null,
      "outputs": [
        {
          "output_type": "stream",
          "text": [
            "california-housing-prices.zip  housing.csv  kaggle.json\n"
          ],
          "name": "stdout"
        }
      ]
    },
    {
      "cell_type": "code",
      "metadata": {
        "id": "j_godMHiykbh",
        "outputId": "364a30db-bdb4-4fd6-f63c-528d0585faa3",
        "colab": {
          "base_uri": "https://localhost:8080/",
          "height": 72
        }
      },
      "source": [
        "# Imported Libraries\n",
        "\n",
        "import numpy as np # linear algebra\n",
        "import pandas as pd # data processing, CSV file I/O (e.g. pd.read_csv)\n",
        "import matplotlib.pyplot as plt\n",
        "import seaborn as sns\n",
        "from sklearn.manifold import TSNE\n",
        "import matplotlib.patches as mpatches\n",
        "import time"
      ],
      "execution_count": null,
      "outputs": [
        {
          "output_type": "stream",
          "text": [
            "/usr/local/lib/python3.6/dist-packages/statsmodels/tools/_testing.py:19: FutureWarning: pandas.util.testing is deprecated. Use the functions in the public API at pandas.testing instead.\n",
            "  import pandas.util.testing as tm\n"
          ],
          "name": "stderr"
        }
      ]
    },
    {
      "cell_type": "code",
      "metadata": {
        "id": "yeFfgoIgy15I",
        "outputId": "0cbc4b2a-b592-4dae-ec98-7e7feb872398",
        "colab": {
          "base_uri": "https://localhost:8080/",
          "height": 197
        }
      },
      "source": [
        "df = pd.read_csv(base_folder+'/housing.csv')\n",
        "df.head()"
      ],
      "execution_count": null,
      "outputs": [
        {
          "output_type": "execute_result",
          "data": {
            "text/html": [
              "<div>\n",
              "<style scoped>\n",
              "    .dataframe tbody tr th:only-of-type {\n",
              "        vertical-align: middle;\n",
              "    }\n",
              "\n",
              "    .dataframe tbody tr th {\n",
              "        vertical-align: top;\n",
              "    }\n",
              "\n",
              "    .dataframe thead th {\n",
              "        text-align: right;\n",
              "    }\n",
              "</style>\n",
              "<table border=\"1\" class=\"dataframe\">\n",
              "  <thead>\n",
              "    <tr style=\"text-align: right;\">\n",
              "      <th></th>\n",
              "      <th>longitude</th>\n",
              "      <th>latitude</th>\n",
              "      <th>housing_median_age</th>\n",
              "      <th>total_rooms</th>\n",
              "      <th>total_bedrooms</th>\n",
              "      <th>population</th>\n",
              "      <th>households</th>\n",
              "      <th>median_income</th>\n",
              "      <th>median_house_value</th>\n",
              "      <th>ocean_proximity</th>\n",
              "    </tr>\n",
              "  </thead>\n",
              "  <tbody>\n",
              "    <tr>\n",
              "      <th>0</th>\n",
              "      <td>-122.23</td>\n",
              "      <td>37.88</td>\n",
              "      <td>41.0</td>\n",
              "      <td>880.0</td>\n",
              "      <td>129.0</td>\n",
              "      <td>322.0</td>\n",
              "      <td>126.0</td>\n",
              "      <td>8.3252</td>\n",
              "      <td>452600.0</td>\n",
              "      <td>NEAR BAY</td>\n",
              "    </tr>\n",
              "    <tr>\n",
              "      <th>1</th>\n",
              "      <td>-122.22</td>\n",
              "      <td>37.86</td>\n",
              "      <td>21.0</td>\n",
              "      <td>7099.0</td>\n",
              "      <td>1106.0</td>\n",
              "      <td>2401.0</td>\n",
              "      <td>1138.0</td>\n",
              "      <td>8.3014</td>\n",
              "      <td>358500.0</td>\n",
              "      <td>NEAR BAY</td>\n",
              "    </tr>\n",
              "    <tr>\n",
              "      <th>2</th>\n",
              "      <td>-122.24</td>\n",
              "      <td>37.85</td>\n",
              "      <td>52.0</td>\n",
              "      <td>1467.0</td>\n",
              "      <td>190.0</td>\n",
              "      <td>496.0</td>\n",
              "      <td>177.0</td>\n",
              "      <td>7.2574</td>\n",
              "      <td>352100.0</td>\n",
              "      <td>NEAR BAY</td>\n",
              "    </tr>\n",
              "    <tr>\n",
              "      <th>3</th>\n",
              "      <td>-122.25</td>\n",
              "      <td>37.85</td>\n",
              "      <td>52.0</td>\n",
              "      <td>1274.0</td>\n",
              "      <td>235.0</td>\n",
              "      <td>558.0</td>\n",
              "      <td>219.0</td>\n",
              "      <td>5.6431</td>\n",
              "      <td>341300.0</td>\n",
              "      <td>NEAR BAY</td>\n",
              "    </tr>\n",
              "    <tr>\n",
              "      <th>4</th>\n",
              "      <td>-122.25</td>\n",
              "      <td>37.85</td>\n",
              "      <td>52.0</td>\n",
              "      <td>1627.0</td>\n",
              "      <td>280.0</td>\n",
              "      <td>565.0</td>\n",
              "      <td>259.0</td>\n",
              "      <td>3.8462</td>\n",
              "      <td>342200.0</td>\n",
              "      <td>NEAR BAY</td>\n",
              "    </tr>\n",
              "  </tbody>\n",
              "</table>\n",
              "</div>"
            ],
            "text/plain": [
              "   longitude  latitude  ...  median_house_value  ocean_proximity\n",
              "0    -122.23     37.88  ...            452600.0         NEAR BAY\n",
              "1    -122.22     37.86  ...            358500.0         NEAR BAY\n",
              "2    -122.24     37.85  ...            352100.0         NEAR BAY\n",
              "3    -122.25     37.85  ...            341300.0         NEAR BAY\n",
              "4    -122.25     37.85  ...            342200.0         NEAR BAY\n",
              "\n",
              "[5 rows x 10 columns]"
            ]
          },
          "metadata": {
            "tags": []
          },
          "execution_count": 10
        }
      ]
    },
    {
      "cell_type": "markdown",
      "metadata": {
        "id": "EsT9WdnqBDfj"
      },
      "source": [
        "**Exploring the data**"
      ]
    },
    {
      "cell_type": "code",
      "metadata": {
        "id": "6alr6pG2JrAb",
        "outputId": "674f4bc9-ca31-44dd-8e3c-c27e4f3476d5",
        "colab": {
          "base_uri": "https://localhost:8080/",
          "height": 318
        }
      },
      "source": [
        "#Checking for missing value\n",
        "df.info()"
      ],
      "execution_count": null,
      "outputs": [
        {
          "output_type": "stream",
          "text": [
            "<class 'pandas.core.frame.DataFrame'>\n",
            "RangeIndex: 20640 entries, 0 to 20639\n",
            "Data columns (total 10 columns):\n",
            " #   Column              Non-Null Count  Dtype  \n",
            "---  ------              --------------  -----  \n",
            " 0   longitude           20640 non-null  float64\n",
            " 1   latitude            20640 non-null  float64\n",
            " 2   housing_median_age  20640 non-null  float64\n",
            " 3   total_rooms         20640 non-null  float64\n",
            " 4   total_bedrooms      20433 non-null  float64\n",
            " 5   population          20640 non-null  float64\n",
            " 6   households          20640 non-null  float64\n",
            " 7   median_income       20640 non-null  float64\n",
            " 8   median_house_value  20640 non-null  float64\n",
            " 9   ocean_proximity     20640 non-null  object \n",
            "dtypes: float64(9), object(1)\n",
            "memory usage: 1.6+ MB\n"
          ],
          "name": "stdout"
        }
      ]
    },
    {
      "cell_type": "code",
      "metadata": {
        "id": "SRm6wHD2y9Ni",
        "outputId": "db14eea9-9a51-4d75-903e-8af0d645d9dd",
        "colab": {
          "base_uri": "https://localhost:8080/",
          "height": 255
        }
      },
      "source": [
        "# plot the houses' location\n",
        "ax1 = df.plot.scatter(x='longitude',y='latitude',c = 'median_house_value',colormap='viridis')"
      ],
      "execution_count": null,
      "outputs": [
        {
          "output_type": "display_data",
          "data": {
            "image/png": "[encoded data removed]",
            "text/plain": [
              "<Figure size 432x288 with 2 Axes>"
            ]
          },
          "metadata": {
            "tags": [],
            "needs_background": "light"
          }
        }
      ]
    },
    {
      "cell_type": "code",
      "metadata": {
        "id": "jflCt4aB8LvX",
        "outputId": "4cc55d30-c762-4a89-a285-f38c9fa44e32",
        "colab": {
          "base_uri": "https://localhost:8080/",
          "height": 338
        }
      },
      "source": [
        "# plot ocean proximity\n",
        "df.ocean_proximity.value_counts().plot(kind = 'bar')"
      ],
      "execution_count": null,
      "outputs": [
        {
          "output_type": "execute_result",
          "data": {
            "text/plain": [
              "<matplotlib.axes._subplots.AxesSubplot at 0x7fbe5148d3c8>"
            ]
          },
          "metadata": {
            "tags": []
          },
          "execution_count": 13
        },
        {
          "output_type": "display_data",
          "data": {
            "image/png": "[encoded data removed]",
            "text/plain": [
              "<Figure size 432x288 with 1 Axes>"
            ]
          },
          "metadata": {
            "tags": [],
            "needs_background": "light"
          }
        }
      ]
    },
    {
      "cell_type": "code",
      "metadata": {
        "id": "evK63ZOVJlOi"
      },
      "source": [
        "# Various categories of Ocean Proximity\n",
        "df.ocean_proximity.unique()"
      ],
      "execution_count": null,
      "outputs": []
    },
    {
      "cell_type": "code",
      "metadata": {
        "id": "nU4d2WHbINbI"
      },
      "source": [
        "from sklearn import preprocessing\n",
        "\n",
        "le = preprocessing.LabelEncoder()\n",
        "\n",
        "df['ocean_proximity'] = le.fit_transform(df['ocean_proximity'])\n"
      ],
      "execution_count": null,
      "outputs": []
    },
    {
      "cell_type": "code",
      "metadata": {
        "id": "RX4CezJMJ3um"
      },
      "source": [
        "#One hot encoding\n",
        "df = pd.get_dummies(df, columns=['ocean_proximity'])"
      ],
      "execution_count": null,
      "outputs": []
    },
    {
      "cell_type": "code",
      "metadata": {
        "id": "a1VuNr4iC_ne",
        "outputId": "3962cbfb-2b02-4c20-c95f-ec2641db529a",
        "colab": {
          "base_uri": "https://localhost:8080/",
          "height": 176
        }
      },
      "source": [
        "#Exercise- Explore the other variables by plotting them\n",
        "df['median_house_value'].describe()"
      ],
      "execution_count": null,
      "outputs": [
        {
          "output_type": "execute_result",
          "data": {
            "text/plain": [
              "count     20640.000000\n",
              "mean     206855.816909\n",
              "std      115395.615874\n",
              "min       14999.000000\n",
              "25%      119600.000000\n",
              "50%      179700.000000\n",
              "75%      264725.000000\n",
              "max      500001.000000\n",
              "Name: median_house_value, dtype: float64"
            ]
          },
          "metadata": {
            "tags": []
          },
          "execution_count": 16
        }
      ]
    },
    {
      "cell_type": "code",
      "metadata": {
        "id": "bUgsElDU3HAw",
        "outputId": "87356bd6-3525-47d1-cddf-c6b58a8eb2d6",
        "colab": {
          "base_uri": "https://localhost:8080/",
          "height": 443
        }
      },
      "source": [
        "df"
      ],
      "execution_count": null,
      "outputs": [
        {
          "output_type": "execute_result",
          "data": {
            "text/html": [
              "<div>\n",
              "<style scoped>\n",
              "    .dataframe tbody tr th:only-of-type {\n",
              "        vertical-align: middle;\n",
              "    }\n",
              "\n",
              "    .dataframe tbody tr th {\n",
              "        vertical-align: top;\n",
              "    }\n",
              "\n",
              "    .dataframe thead th {\n",
              "        text-align: right;\n",
              "    }\n",
              "</style>\n",
              "<table border=\"1\" class=\"dataframe\">\n",
              "  <thead>\n",
              "    <tr style=\"text-align: right;\">\n",
              "      <th></th>\n",
              "      <th>longitude</th>\n",
              "      <th>latitude</th>\n",
              "      <th>housing_median_age</th>\n",
              "      <th>total_rooms</th>\n",
              "      <th>total_bedrooms</th>\n",
              "      <th>population</th>\n",
              "      <th>households</th>\n",
              "      <th>median_income</th>\n",
              "      <th>median_house_value</th>\n",
              "      <th>ocean_proximity_&lt;1H OCEAN</th>\n",
              "      <th>ocean_proximity_INLAND</th>\n",
              "      <th>ocean_proximity_ISLAND</th>\n",
              "      <th>ocean_proximity_NEAR BAY</th>\n",
              "      <th>ocean_proximity_NEAR OCEAN</th>\n",
              "    </tr>\n",
              "  </thead>\n",
              "  <tbody>\n",
              "    <tr>\n",
              "      <th>0</th>\n",
              "      <td>-122.23</td>\n",
              "      <td>37.88</td>\n",
              "      <td>41.0</td>\n",
              "      <td>880.0</td>\n",
              "      <td>129.0</td>\n",
              "      <td>322.0</td>\n",
              "      <td>126.0</td>\n",
              "      <td>8.3252</td>\n",
              "      <td>452600.0</td>\n",
              "      <td>0</td>\n",
              "      <td>0</td>\n",
              "      <td>0</td>\n",
              "      <td>1</td>\n",
              "      <td>0</td>\n",
              "    </tr>\n",
              "    <tr>\n",
              "      <th>1</th>\n",
              "      <td>-122.22</td>\n",
              "      <td>37.86</td>\n",
              "      <td>21.0</td>\n",
              "      <td>7099.0</td>\n",
              "      <td>1106.0</td>\n",
              "      <td>2401.0</td>\n",
              "      <td>1138.0</td>\n",
              "      <td>8.3014</td>\n",
              "      <td>358500.0</td>\n",
              "      <td>0</td>\n",
              "      <td>0</td>\n",
              "      <td>0</td>\n",
              "      <td>1</td>\n",
              "      <td>0</td>\n",
              "    </tr>\n",
              "    <tr>\n",
              "      <th>2</th>\n",
              "      <td>-122.24</td>\n",
              "      <td>37.85</td>\n",
              "      <td>52.0</td>\n",
              "      <td>1467.0</td>\n",
              "      <td>190.0</td>\n",
              "      <td>496.0</td>\n",
              "      <td>177.0</td>\n",
              "      <td>7.2574</td>\n",
              "      <td>352100.0</td>\n",
              "      <td>0</td>\n",
              "      <td>0</td>\n",
              "      <td>0</td>\n",
              "      <td>1</td>\n",
              "      <td>0</td>\n",
              "    </tr>\n",
              "    <tr>\n",
              "      <th>3</th>\n",
              "      <td>-122.25</td>\n",
              "      <td>37.85</td>\n",
              "      <td>52.0</td>\n",
              "      <td>1274.0</td>\n",
              "      <td>235.0</td>\n",
              "      <td>558.0</td>\n",
              "      <td>219.0</td>\n",
              "      <td>5.6431</td>\n",
              "      <td>341300.0</td>\n",
              "      <td>0</td>\n",
              "      <td>0</td>\n",
              "      <td>0</td>\n",
              "      <td>1</td>\n",
              "      <td>0</td>\n",
              "    </tr>\n",
              "    <tr>\n",
              "      <th>4</th>\n",
              "      <td>-122.25</td>\n",
              "      <td>37.85</td>\n",
              "      <td>52.0</td>\n",
              "      <td>1627.0</td>\n",
              "      <td>280.0</td>\n",
              "      <td>565.0</td>\n",
              "      <td>259.0</td>\n",
              "      <td>3.8462</td>\n",
              "      <td>342200.0</td>\n",
              "      <td>0</td>\n",
              "      <td>0</td>\n",
              "      <td>0</td>\n",
              "      <td>1</td>\n",
              "      <td>0</td>\n",
              "    </tr>\n",
              "    <tr>\n",
              "      <th>...</th>\n",
              "      <td>...</td>\n",
              "      <td>...</td>\n",
              "      <td>...</td>\n",
              "      <td>...</td>\n",
              "      <td>...</td>\n",
              "      <td>...</td>\n",
              "      <td>...</td>\n",
              "      <td>...</td>\n",
              "      <td>...</td>\n",
              "      <td>...</td>\n",
              "      <td>...</td>\n",
              "      <td>...</td>\n",
              "      <td>...</td>\n",
              "      <td>...</td>\n",
              "    </tr>\n",
              "    <tr>\n",
              "      <th>20635</th>\n",
              "      <td>-121.09</td>\n",
              "      <td>39.48</td>\n",
              "      <td>25.0</td>\n",
              "      <td>1665.0</td>\n",
              "      <td>374.0</td>\n",
              "      <td>845.0</td>\n",
              "      <td>330.0</td>\n",
              "      <td>1.5603</td>\n",
              "      <td>78100.0</td>\n",
              "      <td>0</td>\n",
              "      <td>1</td>\n",
              "      <td>0</td>\n",
              "      <td>0</td>\n",
              "      <td>0</td>\n",
              "    </tr>\n",
              "    <tr>\n",
              "      <th>20636</th>\n",
              "      <td>-121.21</td>\n",
              "      <td>39.49</td>\n",
              "      <td>18.0</td>\n",
              "      <td>697.0</td>\n",
              "      <td>150.0</td>\n",
              "      <td>356.0</td>\n",
              "      <td>114.0</td>\n",
              "      <td>2.5568</td>\n",
              "      <td>77100.0</td>\n",
              "      <td>0</td>\n",
              "      <td>1</td>\n",
              "      <td>0</td>\n",
              "      <td>0</td>\n",
              "      <td>0</td>\n",
              "    </tr>\n",
              "    <tr>\n",
              "      <th>20637</th>\n",
              "      <td>-121.22</td>\n",
              "      <td>39.43</td>\n",
              "      <td>17.0</td>\n",
              "      <td>2254.0</td>\n",
              "      <td>485.0</td>\n",
              "      <td>1007.0</td>\n",
              "      <td>433.0</td>\n",
              "      <td>1.7000</td>\n",
              "      <td>92300.0</td>\n",
              "      <td>0</td>\n",
              "      <td>1</td>\n",
              "      <td>0</td>\n",
              "      <td>0</td>\n",
              "      <td>0</td>\n",
              "    </tr>\n",
              "    <tr>\n",
              "      <th>20638</th>\n",
              "      <td>-121.32</td>\n",
              "      <td>39.43</td>\n",
              "      <td>18.0</td>\n",
              "      <td>1860.0</td>\n",
              "      <td>409.0</td>\n",
              "      <td>741.0</td>\n",
              "      <td>349.0</td>\n",
              "      <td>1.8672</td>\n",
              "      <td>84700.0</td>\n",
              "      <td>0</td>\n",
              "      <td>1</td>\n",
              "      <td>0</td>\n",
              "      <td>0</td>\n",
              "      <td>0</td>\n",
              "    </tr>\n",
              "    <tr>\n",
              "      <th>20639</th>\n",
              "      <td>-121.24</td>\n",
              "      <td>39.37</td>\n",
              "      <td>16.0</td>\n",
              "      <td>2785.0</td>\n",
              "      <td>616.0</td>\n",
              "      <td>1387.0</td>\n",
              "      <td>530.0</td>\n",
              "      <td>2.3886</td>\n",
              "      <td>89400.0</td>\n",
              "      <td>0</td>\n",
              "      <td>1</td>\n",
              "      <td>0</td>\n",
              "      <td>0</td>\n",
              "      <td>0</td>\n",
              "    </tr>\n",
              "  </tbody>\n",
              "</table>\n",
              "<p>20640 rows × 14 columns</p>\n",
              "</div>"
            ],
            "text/plain": [
              "       longitude  ...  ocean_proximity_NEAR OCEAN\n",
              "0        -122.23  ...                           0\n",
              "1        -122.22  ...                           0\n",
              "2        -122.24  ...                           0\n",
              "3        -122.25  ...                           0\n",
              "4        -122.25  ...                           0\n",
              "...          ...  ...                         ...\n",
              "20635    -121.09  ...                           0\n",
              "20636    -121.21  ...                           0\n",
              "20637    -121.22  ...                           0\n",
              "20638    -121.32  ...                           0\n",
              "20639    -121.24  ...                           0\n",
              "\n",
              "[20640 rows x 14 columns]"
            ]
          },
          "metadata": {
            "tags": []
          },
          "execution_count": 17
        }
      ]
    },
    {
      "cell_type": "code",
      "metadata": {
        "id": "_TKyutzOBhyE",
        "outputId": "15cc1e7a-1f85-4a8c-be13-065d7aa21333",
        "colab": {
          "base_uri": "https://localhost:8080/",
          "height": 371
        }
      },
      "source": [
        "#looking at correlation of the different variables\n",
        "corr = df.corr()\n",
        "corr.style.background_gradient(cmap='coolwarm')"
      ],
      "execution_count": null,
      "outputs": [
        {
          "output_type": "execute_result",
          "data": {
            "text/html": [
              "<style  type=\"text/css\" >\n",
              "    #T_21293010_ff11_11ea_8f27_0242ac1c0002row0_col0 {\n",
              "            background-color:  #b40426;\n",
              "            color:  #f1f1f1;\n",
              "        }    #T_21293010_ff11_11ea_8f27_0242ac1c0002row0_col1 {\n",
              "            background-color:  #3b4cc0;\n",
              "            color:  #f1f1f1;\n",
              "        }    #T_21293010_ff11_11ea_8f27_0242ac1c0002row0_col2 {\n",
              "            background-color:  #7699f6;\n",
              "            color:  #000000;\n",
              "        }    #T_21293010_ff11_11ea_8f27_0242ac1c0002row0_col3 {\n",
              "            background-color:  #9ebeff;\n",
              "            color:  #000000;\n",
              "        }    #T_21293010_ff11_11ea_8f27_0242ac1c0002row0_col4 {\n",
              "            background-color:  #9dbdff;\n",
              "            color:  #000000;\n",
              "        }    #T_21293010_ff11_11ea_8f27_0242ac1c0002row0_col5 {\n",
              "            background-color:  #a1c0ff;\n",
              "            color:  #000000;\n",
              "        }    #T_21293010_ff11_11ea_8f27_0242ac1c0002row0_col6 {\n",
              "            background-color:  #96b7ff;\n",
              "            color:  #000000;\n",
              "        }    #T_21293010_ff11_11ea_8f27_0242ac1c0002row0_col7 {\n",
              "            background-color:  #7396f5;\n",
              "            color:  #000000;\n",
              "        }    #T_21293010_ff11_11ea_8f27_0242ac1c0002row0_col8 {\n",
              "            background-color:  #9dbdff;\n",
              "            color:  #000000;\n",
              "        }    #T_21293010_ff11_11ea_8f27_0242ac1c0002row0_col9 {\n",
              "            background-color:  #eed0c0;\n",
              "            color:  #000000;\n",
              "        }    #T_21293010_ff11_11ea_8f27_0242ac1c0002row0_col10 {\n",
              "            background-color:  #adc9fd;\n",
              "            color:  #000000;\n",
              "        }    #T_21293010_ff11_11ea_8f27_0242ac1c0002row0_col11 {\n",
              "            background-color:  #4257c9;\n",
              "            color:  #f1f1f1;\n",
              "        }    #T_21293010_ff11_11ea_8f27_0242ac1c0002row0_col12 {\n",
              "            background-color:  #3b4cc0;\n",
              "            color:  #f1f1f1;\n",
              "        }    #T_21293010_ff11_11ea_8f27_0242ac1c0002row0_col13 {\n",
              "            background-color:  #9bbcff;\n",
              "            color:  #000000;\n",
              "        }    #T_21293010_ff11_11ea_8f27_0242ac1c0002row1_col0 {\n",
              "            background-color:  #3b4cc0;\n",
              "            color:  #f1f1f1;\n",
              "        }    #T_21293010_ff11_11ea_8f27_0242ac1c0002row1_col1 {\n",
              "            background-color:  #b40426;\n",
              "            color:  #f1f1f1;\n",
              "        }    #T_21293010_ff11_11ea_8f27_0242ac1c0002row1_col2 {\n",
              "            background-color:  #96b7ff;\n",
              "            color:  #000000;\n",
              "        }    #T_21293010_ff11_11ea_8f27_0242ac1c0002row1_col3 {\n",
              "            background-color:  #89acfd;\n",
              "            color:  #000000;\n",
              "        }    #T_21293010_ff11_11ea_8f27_0242ac1c0002row1_col4 {\n",
              "            background-color:  #799cf8;\n",
              "            color:  #000000;\n",
              "        }    #T_21293010_ff11_11ea_8f27_0242ac1c0002row1_col5 {\n",
              "            background-color:  #688aef;\n",
              "            color:  #000000;\n",
              "        }    #T_21293010_ff11_11ea_8f27_0242ac1c0002row1_col6 {\n",
              "            background-color:  #7396f5;\n",
              "            color:  #000000;\n",
              "        }    #T_21293010_ff11_11ea_8f27_0242ac1c0002row1_col7 {\n",
              "            background-color:  #6282ea;\n",
              "            color:  #000000;\n",
              "        }    #T_21293010_ff11_11ea_8f27_0242ac1c0002row1_col8 {\n",
              "            background-color:  #85a8fc;\n",
              "            color:  #000000;\n",
              "        }    #T_21293010_ff11_11ea_8f27_0242ac1c0002row1_col9 {\n",
              "            background-color:  #5977e3;\n",
              "            color:  #000000;\n",
              "        }    #T_21293010_ff11_11ea_8f27_0242ac1c0002row1_col10 {\n",
              "            background-color:  #f1ccb8;\n",
              "            color:  #000000;\n",
              "        }    #T_21293010_ff11_11ea_8f27_0242ac1c0002row1_col11 {\n",
              "            background-color:  #3b4cc0;\n",
              "            color:  #f1f1f1;\n",
              "        }    #T_21293010_ff11_11ea_8f27_0242ac1c0002row1_col12 {\n",
              "            background-color:  #ecd3c5;\n",
              "            color:  #000000;\n",
              "        }    #T_21293010_ff11_11ea_8f27_0242ac1c0002row1_col13 {\n",
              "            background-color:  #6485ec;\n",
              "            color:  #000000;\n",
              "        }    #T_21293010_ff11_11ea_8f27_0242ac1c0002row2_col0 {\n",
              "            background-color:  #c7d7f0;\n",
              "            color:  #000000;\n",
              "        }    #T_21293010_ff11_11ea_8f27_0242ac1c0002row2_col1 {\n",
              "            background-color:  #d9dce1;\n",
              "            color:  #000000;\n",
              "        }    #T_21293010_ff11_11ea_8f27_0242ac1c0002row2_col2 {\n",
              "            background-color:  #b40426;\n",
              "            color:  #f1f1f1;\n",
              "        }    #T_21293010_ff11_11ea_8f27_0242ac1c0002row2_col3 {\n",
              "            background-color:  #3b4cc0;\n",
              "            color:  #f1f1f1;\n",
              "        }    #T_21293010_ff11_11ea_8f27_0242ac1c0002row2_col4 {\n",
              "            background-color:  #3b4cc0;\n",
              "            color:  #f1f1f1;\n",
              "        }    #T_21293010_ff11_11ea_8f27_0242ac1c0002row2_col5 {\n",
              "            background-color:  #3b4cc0;\n",
              "            color:  #f1f1f1;\n",
              "        }    #T_21293010_ff11_11ea_8f27_0242ac1c0002row2_col6 {\n",
              "            background-color:  #3b4cc0;\n",
              "            color:  #f1f1f1;\n",
              "        }    #T_21293010_ff11_11ea_8f27_0242ac1c0002row2_col7 {\n",
              "            background-color:  #5875e1;\n",
              "            color:  #000000;\n",
              "        }    #T_21293010_ff11_11ea_8f27_0242ac1c0002row2_col8 {\n",
              "            background-color:  #bfd3f6;\n",
              "            color:  #000000;\n",
              "        }    #T_21293010_ff11_11ea_8f27_0242ac1c0002row2_col9 {\n",
              "            background-color:  #c1d4f4;\n",
              "            color:  #000000;\n",
              "        }    #T_21293010_ff11_11ea_8f27_0242ac1c0002row2_col10 {\n",
              "            background-color:  #86a9fc;\n",
              "            color:  #000000;\n",
              "        }    #T_21293010_ff11_11ea_8f27_0242ac1c0002row2_col11 {\n",
              "            background-color:  #445acc;\n",
              "            color:  #f1f1f1;\n",
              "        }    #T_21293010_ff11_11ea_8f27_0242ac1c0002row2_col12 {\n",
              "            background-color:  #dbdcde;\n",
              "            color:  #000000;\n",
              "        }    #T_21293010_ff11_11ea_8f27_0242ac1c0002row2_col13 {\n",
              "            background-color:  #94b6ff;\n",
              "            color:  #000000;\n",
              "        }    #T_21293010_ff11_11ea_8f27_0242ac1c0002row3_col0 {\n",
              "            background-color:  #dddcdc;\n",
              "            color:  #000000;\n",
              "        }    #T_21293010_ff11_11ea_8f27_0242ac1c0002row3_col1 {\n",
              "            background-color:  #d3dbe7;\n",
              "            color:  #000000;\n",
              "        }    #T_21293010_ff11_11ea_8f27_0242ac1c0002row3_col2 {\n",
              "            background-color:  #3b4cc0;\n",
              "            color:  #f1f1f1;\n",
              "        }    #T_21293010_ff11_11ea_8f27_0242ac1c0002row3_col3 {\n",
              "            background-color:  #b40426;\n",
              "            color:  #f1f1f1;\n",
              "        }    #T_21293010_ff11_11ea_8f27_0242ac1c0002row3_col4 {\n",
              "            background-color:  #c73635;\n",
              "            color:  #f1f1f1;\n",
              "        }    #T_21293010_ff11_11ea_8f27_0242ac1c0002row3_col5 {\n",
              "            background-color:  #d95847;\n",
              "            color:  #000000;\n",
              "        }    #T_21293010_ff11_11ea_8f27_0242ac1c0002row3_col6 {\n",
              "            background-color:  #cb3e38;\n",
              "            color:  #f1f1f1;\n",
              "        }    #T_21293010_ff11_11ea_8f27_0242ac1c0002row3_col7 {\n",
              "            background-color:  #b1cbfc;\n",
              "            color:  #000000;\n",
              "        }    #T_21293010_ff11_11ea_8f27_0242ac1c0002row3_col8 {\n",
              "            background-color:  #c5d6f2;\n",
              "            color:  #000000;\n",
              "        }    #T_21293010_ff11_11ea_8f27_0242ac1c0002row3_col9 {\n",
              "            background-color:  #b9d0f9;\n",
              "            color:  #000000;\n",
              "        }    #T_21293010_ff11_11ea_8f27_0242ac1c0002row3_col10 {\n",
              "            background-color:  #bed2f6;\n",
              "            color:  #000000;\n",
              "        }    #T_21293010_ff11_11ea_8f27_0242ac1c0002row3_col11 {\n",
              "            background-color:  #3d50c3;\n",
              "            color:  #f1f1f1;\n",
              "        }    #T_21293010_ff11_11ea_8f27_0242ac1c0002row3_col12 {\n",
              "            background-color:  #a1c0ff;\n",
              "            color:  #000000;\n",
              "        }    #T_21293010_ff11_11ea_8f27_0242ac1c0002row3_col13 {\n",
              "            background-color:  #8caffe;\n",
              "            color:  #000000;\n",
              "        }    #T_21293010_ff11_11ea_8f27_0242ac1c0002row4_col0 {\n",
              "            background-color:  #e1dad6;\n",
              "            color:  #000000;\n",
              "        }    #T_21293010_ff11_11ea_8f27_0242ac1c0002row4_col1 {\n",
              "            background-color:  #cedaeb;\n",
              "            color:  #000000;\n",
              "        }    #T_21293010_ff11_11ea_8f27_0242ac1c0002row4_col2 {\n",
              "            background-color:  #4358cb;\n",
              "            color:  #f1f1f1;\n",
              "        }    #T_21293010_ff11_11ea_8f27_0242ac1c0002row4_col3 {\n",
              "            background-color:  #c73635;\n",
              "            color:  #f1f1f1;\n",
              "        }    #T_21293010_ff11_11ea_8f27_0242ac1c0002row4_col4 {\n",
              "            background-color:  #b40426;\n",
              "            color:  #f1f1f1;\n",
              "        }    #T_21293010_ff11_11ea_8f27_0242ac1c0002row4_col5 {\n",
              "            background-color:  #d55042;\n",
              "            color:  #000000;\n",
              "        }    #T_21293010_ff11_11ea_8f27_0242ac1c0002row4_col6 {\n",
              "            background-color:  #b8122a;\n",
              "            color:  #f1f1f1;\n",
              "        }    #T_21293010_ff11_11ea_8f27_0242ac1c0002row4_col7 {\n",
              "            background-color:  #7699f6;\n",
              "            color:  #000000;\n",
              "        }    #T_21293010_ff11_11ea_8f27_0242ac1c0002row4_col8 {\n",
              "            background-color:  #b3cdfb;\n",
              "            color:  #000000;\n",
              "        }    #T_21293010_ff11_11ea_8f27_0242ac1c0002row4_col9 {\n",
              "            background-color:  #bcd2f7;\n",
              "            color:  #000000;\n",
              "        }    #T_21293010_ff11_11ea_8f27_0242ac1c0002row4_col10 {\n",
              "            background-color:  #b7cff9;\n",
              "            color:  #000000;\n",
              "        }    #T_21293010_ff11_11ea_8f27_0242ac1c0002row4_col11 {\n",
              "            background-color:  #3e51c5;\n",
              "            color:  #f1f1f1;\n",
              "        }    #T_21293010_ff11_11ea_8f27_0242ac1c0002row4_col12 {\n",
              "            background-color:  #a1c0ff;\n",
              "            color:  #000000;\n",
              "        }    #T_21293010_ff11_11ea_8f27_0242ac1c0002row4_col13 {\n",
              "            background-color:  #8fb1fe;\n",
              "            color:  #000000;\n",
              "        }    #T_21293010_ff11_11ea_8f27_0242ac1c0002row5_col0 {\n",
              "            background-color:  #e5d8d1;\n",
              "            color:  #000000;\n",
              "        }    #T_21293010_ff11_11ea_8f27_0242ac1c0002row5_col1 {\n",
              "            background-color:  #c7d7f0;\n",
              "            color:  #000000;\n",
              "        }    #T_21293010_ff11_11ea_8f27_0242ac1c0002row5_col2 {\n",
              "            background-color:  #4961d2;\n",
              "            color:  #f1f1f1;\n",
              "        }    #T_21293010_ff11_11ea_8f27_0242ac1c0002row5_col3 {\n",
              "            background-color:  #d75445;\n",
              "            color:  #000000;\n",
              "        }    #T_21293010_ff11_11ea_8f27_0242ac1c0002row5_col4 {\n",
              "            background-color:  #d44e41;\n",
              "            color:  #000000;\n",
              "        }    #T_21293010_ff11_11ea_8f27_0242ac1c0002row5_col5 {\n",
              "            background-color:  #b40426;\n",
              "            color:  #f1f1f1;\n",
              "        }    #T_21293010_ff11_11ea_8f27_0242ac1c0002row5_col6 {\n",
              "            background-color:  #cd423b;\n",
              "            color:  #f1f1f1;\n",
              "        }    #T_21293010_ff11_11ea_8f27_0242ac1c0002row5_col7 {\n",
              "            background-color:  #7a9df8;\n",
              "            color:  #000000;\n",
              "        }    #T_21293010_ff11_11ea_8f27_0242ac1c0002row5_col8 {\n",
              "            background-color:  #a2c1ff;\n",
              "            color:  #000000;\n",
              "        }    #T_21293010_ff11_11ea_8f27_0242ac1c0002row5_col9 {\n",
              "            background-color:  #c7d7f0;\n",
              "            color:  #000000;\n",
              "        }    #T_21293010_ff11_11ea_8f27_0242ac1c0002row5_col10 {\n",
              "            background-color:  #b5cdfa;\n",
              "            color:  #000000;\n",
              "        }    #T_21293010_ff11_11ea_8f27_0242ac1c0002row5_col11 {\n",
              "            background-color:  #3c4ec2;\n",
              "            color:  #f1f1f1;\n",
              "        }    #T_21293010_ff11_11ea_8f27_0242ac1c0002row5_col12 {\n",
              "            background-color:  #97b8ff;\n",
              "            color:  #000000;\n",
              "        }    #T_21293010_ff11_11ea_8f27_0242ac1c0002row5_col13 {\n",
              "            background-color:  #88abfd;\n",
              "            color:  #000000;\n",
              "        }    #T_21293010_ff11_11ea_8f27_0242ac1c0002row6_col0 {\n",
              "            background-color:  #dfdbd9;\n",
              "            color:  #000000;\n",
              "        }    #T_21293010_ff11_11ea_8f27_0242ac1c0002row6_col1 {\n",
              "            background-color:  #cdd9ec;\n",
              "            color:  #000000;\n",
              "        }    #T_21293010_ff11_11ea_8f27_0242ac1c0002row6_col2 {\n",
              "            background-color:  #465ecf;\n",
              "            color:  #f1f1f1;\n",
              "        }    #T_21293010_ff11_11ea_8f27_0242ac1c0002row6_col3 {\n",
              "            background-color:  #ca3b37;\n",
              "            color:  #f1f1f1;\n",
              "        }    #T_21293010_ff11_11ea_8f27_0242ac1c0002row6_col4 {\n",
              "            background-color:  #b8122a;\n",
              "            color:  #f1f1f1;\n",
              "        }    #T_21293010_ff11_11ea_8f27_0242ac1c0002row6_col5 {\n",
              "            background-color:  #cd423b;\n",
              "            color:  #f1f1f1;\n",
              "        }    #T_21293010_ff11_11ea_8f27_0242ac1c0002row6_col6 {\n",
              "            background-color:  #b40426;\n",
              "            color:  #f1f1f1;\n",
              "        }    #T_21293010_ff11_11ea_8f27_0242ac1c0002row6_col7 {\n",
              "            background-color:  #7b9ff9;\n",
              "            color:  #000000;\n",
              "        }    #T_21293010_ff11_11ea_8f27_0242ac1c0002row6_col8 {\n",
              "            background-color:  #b6cefa;\n",
              "            color:  #000000;\n",
              "        }    #T_21293010_ff11_11ea_8f27_0242ac1c0002row6_col9 {\n",
              "            background-color:  #c1d4f4;\n",
              "            color:  #000000;\n",
              "        }    #T_21293010_ff11_11ea_8f27_0242ac1c0002row6_col10 {\n",
              "            background-color:  #b1cbfc;\n",
              "            color:  #000000;\n",
              "        }    #T_21293010_ff11_11ea_8f27_0242ac1c0002row6_col11 {\n",
              "            background-color:  #3c4ec2;\n",
              "            color:  #f1f1f1;\n",
              "        }    #T_21293010_ff11_11ea_8f27_0242ac1c0002row6_col12 {\n",
              "            background-color:  #a3c2fe;\n",
              "            color:  #000000;\n",
              "        }    #T_21293010_ff11_11ea_8f27_0242ac1c0002row6_col13 {\n",
              "            background-color:  #8fb1fe;\n",
              "            color:  #000000;\n",
              "        }    #T_21293010_ff11_11ea_8f27_0242ac1c0002row7_col0 {\n",
              "            background-color:  #d5dbe5;\n",
              "            color:  #000000;\n",
              "        }    #T_21293010_ff11_11ea_8f27_0242ac1c0002row7_col1 {\n",
              "            background-color:  #ccd9ed;\n",
              "            color:  #000000;\n",
              "        }    #T_21293010_ff11_11ea_8f27_0242ac1c0002row7_col2 {\n",
              "            background-color:  #7396f5;\n",
              "            color:  #000000;\n",
              "        }    #T_21293010_ff11_11ea_8f27_0242ac1c0002row7_col3 {\n",
              "            background-color:  #c4d5f3;\n",
              "            color:  #000000;\n",
              "        }    #T_21293010_ff11_11ea_8f27_0242ac1c0002row7_col4 {\n",
              "            background-color:  #88abfd;\n",
              "            color:  #000000;\n",
              "        }    #T_21293010_ff11_11ea_8f27_0242ac1c0002row7_col5 {\n",
              "            background-color:  #86a9fc;\n",
              "            color:  #000000;\n",
              "        }    #T_21293010_ff11_11ea_8f27_0242ac1c0002row7_col6 {\n",
              "            background-color:  #8badfd;\n",
              "            color:  #000000;\n",
              "        }    #T_21293010_ff11_11ea_8f27_0242ac1c0002row7_col7 {\n",
              "            background-color:  #b40426;\n",
              "            color:  #f1f1f1;\n",
              "        }    #T_21293010_ff11_11ea_8f27_0242ac1c0002row7_col8 {\n",
              "            background-color:  #ef886b;\n",
              "            color:  #000000;\n",
              "        }    #T_21293010_ff11_11ea_8f27_0242ac1c0002row7_col9 {\n",
              "            background-color:  #d8dce2;\n",
              "            color:  #000000;\n",
              "        }    #T_21293010_ff11_11ea_8f27_0242ac1c0002row7_col10 {\n",
              "            background-color:  #85a8fc;\n",
              "            color:  #000000;\n",
              "        }    #T_21293010_ff11_11ea_8f27_0242ac1c0002row7_col11 {\n",
              "            background-color:  #3c4ec2;\n",
              "            color:  #f1f1f1;\n",
              "        }    #T_21293010_ff11_11ea_8f27_0242ac1c0002row7_col12 {\n",
              "            background-color:  #b3cdfb;\n",
              "            color:  #000000;\n",
              "        }    #T_21293010_ff11_11ea_8f27_0242ac1c0002row7_col13 {\n",
              "            background-color:  #96b7ff;\n",
              "            color:  #000000;\n",
              "        }    #T_21293010_ff11_11ea_8f27_0242ac1c0002row8_col0 {\n",
              "            background-color:  #d1dae9;\n",
              "            color:  #000000;\n",
              "        }    #T_21293010_ff11_11ea_8f27_0242ac1c0002row8_col1 {\n",
              "            background-color:  #c1d4f4;\n",
              "            color:  #000000;\n",
              "        }    #T_21293010_ff11_11ea_8f27_0242ac1c0002row8_col2 {\n",
              "            background-color:  #adc9fd;\n",
              "            color:  #000000;\n",
              "        }    #T_21293010_ff11_11ea_8f27_0242ac1c0002row8_col3 {\n",
              "            background-color:  #b5cdfa;\n",
              "            color:  #000000;\n",
              "        }    #T_21293010_ff11_11ea_8f27_0242ac1c0002row8_col4 {\n",
              "            background-color:  #97b8ff;\n",
              "            color:  #000000;\n",
              "        }    #T_21293010_ff11_11ea_8f27_0242ac1c0002row8_col5 {\n",
              "            background-color:  #7ea1fa;\n",
              "            color:  #000000;\n",
              "        }    #T_21293010_ff11_11ea_8f27_0242ac1c0002row8_col6 {\n",
              "            background-color:  #98b9ff;\n",
              "            color:  #000000;\n",
              "        }    #T_21293010_ff11_11ea_8f27_0242ac1c0002row8_col7 {\n",
              "            background-color:  #f49a7b;\n",
              "            color:  #000000;\n",
              "        }    #T_21293010_ff11_11ea_8f27_0242ac1c0002row8_col8 {\n",
              "            background-color:  #b40426;\n",
              "            color:  #f1f1f1;\n",
              "        }    #T_21293010_ff11_11ea_8f27_0242ac1c0002row8_col9 {\n",
              "            background-color:  #e6d7cf;\n",
              "            color:  #000000;\n",
              "        }    #T_21293010_ff11_11ea_8f27_0242ac1c0002row8_col10 {\n",
              "            background-color:  #516ddb;\n",
              "            color:  #000000;\n",
              "        }    #T_21293010_ff11_11ea_8f27_0242ac1c0002row8_col11 {\n",
              "            background-color:  #465ecf;\n",
              "            color:  #f1f1f1;\n",
              "        }    #T_21293010_ff11_11ea_8f27_0242ac1c0002row8_col12 {\n",
              "            background-color:  #cad8ef;\n",
              "            color:  #000000;\n",
              "        }    #T_21293010_ff11_11ea_8f27_0242ac1c0002row8_col13 {\n",
              "            background-color:  #b3cdfb;\n",
              "            color:  #000000;\n",
              "        }    #T_21293010_ff11_11ea_8f27_0242ac1c0002row9_col0 {\n",
              "            background-color:  #f6bea4;\n",
              "            color:  #000000;\n",
              "        }    #T_21293010_ff11_11ea_8f27_0242ac1c0002row9_col1 {\n",
              "            background-color:  #8caffe;\n",
              "            color:  #000000;\n",
              "        }    #T_21293010_ff11_11ea_8f27_0242ac1c0002row9_col2 {\n",
              "            background-color:  #9ebeff;\n",
              "            color:  #000000;\n",
              "        }    #T_21293010_ff11_11ea_8f27_0242ac1c0002row9_col3 {\n",
              "            background-color:  #92b4fe;\n",
              "            color:  #000000;\n",
              "        }    #T_21293010_ff11_11ea_8f27_0242ac1c0002row9_col4 {\n",
              "            background-color:  #8fb1fe;\n",
              "            color:  #000000;\n",
              "        }    #T_21293010_ff11_11ea_8f27_0242ac1c0002row9_col5 {\n",
              "            background-color:  #9abbff;\n",
              "            color:  #000000;\n",
              "        }    #T_21293010_ff11_11ea_8f27_0242ac1c0002row9_col6 {\n",
              "            background-color:  #92b4fe;\n",
              "            color:  #000000;\n",
              "        }    #T_21293010_ff11_11ea_8f27_0242ac1c0002row9_col7 {\n",
              "            background-color:  #a9c6fd;\n",
              "            color:  #000000;\n",
              "        }    #T_21293010_ff11_11ea_8f27_0242ac1c0002row9_col8 {\n",
              "            background-color:  #dcdddd;\n",
              "            color:  #000000;\n",
              "        }    #T_21293010_ff11_11ea_8f27_0242ac1c0002row9_col9 {\n",
              "            background-color:  #b40426;\n",
              "            color:  #f1f1f1;\n",
              "        }    #T_21293010_ff11_11ea_8f27_0242ac1c0002row9_col10 {\n",
              "            background-color:  #3b4cc0;\n",
              "            color:  #f1f1f1;\n",
              "        }    #T_21293010_ff11_11ea_8f27_0242ac1c0002row9_col11 {\n",
              "            background-color:  #3b4cc0;\n",
              "            color:  #f1f1f1;\n",
              "        }    #T_21293010_ff11_11ea_8f27_0242ac1c0002row9_col12 {\n",
              "            background-color:  #5b7ae5;\n",
              "            color:  #000000;\n",
              "        }    #T_21293010_ff11_11ea_8f27_0242ac1c0002row9_col13 {\n",
              "            background-color:  #3b4cc0;\n",
              "            color:  #f1f1f1;\n",
              "        }    #T_21293010_ff11_11ea_8f27_0242ac1c0002row10_col0 {\n",
              "            background-color:  #cfdaea;\n",
              "            color:  #000000;\n",
              "        }    #T_21293010_ff11_11ea_8f27_0242ac1c0002row10_col1 {\n",
              "            background-color:  #f7b99e;\n",
              "            color:  #000000;\n",
              "        }    #T_21293010_ff11_11ea_8f27_0242ac1c0002row10_col2 {\n",
              "            background-color:  #5673e0;\n",
              "            color:  #000000;\n",
              "        }    #T_21293010_ff11_11ea_8f27_0242ac1c0002row10_col3 {\n",
              "            background-color:  #98b9ff;\n",
              "            color:  #000000;\n",
              "        }    #T_21293010_ff11_11ea_8f27_0242ac1c0002row10_col4 {\n",
              "            background-color:  #88abfd;\n",
              "            color:  #000000;\n",
              "        }    #T_21293010_ff11_11ea_8f27_0242ac1c0002row10_col5 {\n",
              "            background-color:  #80a3fa;\n",
              "            color:  #000000;\n",
              "        }    #T_21293010_ff11_11ea_8f27_0242ac1c0002row10_col6 {\n",
              "            background-color:  #7b9ff9;\n",
              "            color:  #000000;\n",
              "        }    #T_21293010_ff11_11ea_8f27_0242ac1c0002row10_col7 {\n",
              "            background-color:  #3b4cc0;\n",
              "            color:  #f1f1f1;\n",
              "        }    #T_21293010_ff11_11ea_8f27_0242ac1c0002row10_col8 {\n",
              "            background-color:  #3b4cc0;\n",
              "            color:  #f1f1f1;\n",
              "        }    #T_21293010_ff11_11ea_8f27_0242ac1c0002row10_col9 {\n",
              "            background-color:  #3b4cc0;\n",
              "            color:  #f1f1f1;\n",
              "        }    #T_21293010_ff11_11ea_8f27_0242ac1c0002row10_col10 {\n",
              "            background-color:  #b40426;\n",
              "            color:  #f1f1f1;\n",
              "        }    #T_21293010_ff11_11ea_8f27_0242ac1c0002row10_col11 {\n",
              "            background-color:  #3c4ec2;\n",
              "            color:  #f1f1f1;\n",
              "        }    #T_21293010_ff11_11ea_8f27_0242ac1c0002row10_col12 {\n",
              "            background-color:  #6c8ff1;\n",
              "            color:  #000000;\n",
              "        }    #T_21293010_ff11_11ea_8f27_0242ac1c0002row10_col13 {\n",
              "            background-color:  #4c66d6;\n",
              "            color:  #000000;\n",
              "        }    #T_21293010_ff11_11ea_8f27_0242ac1c0002row11_col0 {\n",
              "            background-color:  #d9dce1;\n",
              "            color:  #000000;\n",
              "        }    #T_21293010_ff11_11ea_8f27_0242ac1c0002row11_col1 {\n",
              "            background-color:  #d5dbe5;\n",
              "            color:  #000000;\n",
              "        }    #T_21293010_ff11_11ea_8f27_0242ac1c0002row11_col2 {\n",
              "            background-color:  #97b8ff;\n",
              "            color:  #000000;\n",
              "        }    #T_21293010_ff11_11ea_8f27_0242ac1c0002row11_col3 {\n",
              "            background-color:  #90b2fe;\n",
              "            color:  #000000;\n",
              "        }    #T_21293010_ff11_11ea_8f27_0242ac1c0002row11_col4 {\n",
              "            background-color:  #89acfd;\n",
              "            color:  #000000;\n",
              "        }    #T_21293010_ff11_11ea_8f27_0242ac1c0002row11_col5 {\n",
              "            background-color:  #82a6fb;\n",
              "            color:  #000000;\n",
              "        }    #T_21293010_ff11_11ea_8f27_0242ac1c0002row11_col6 {\n",
              "            background-color:  #84a7fc;\n",
              "            color:  #000000;\n",
              "        }    #T_21293010_ff11_11ea_8f27_0242ac1c0002row11_col7 {\n",
              "            background-color:  #7699f6;\n",
              "            color:  #000000;\n",
              "        }    #T_21293010_ff11_11ea_8f27_0242ac1c0002row11_col8 {\n",
              "            background-color:  #adc9fd;\n",
              "            color:  #000000;\n",
              "        }    #T_21293010_ff11_11ea_8f27_0242ac1c0002row11_col9 {\n",
              "            background-color:  #b6cefa;\n",
              "            color:  #000000;\n",
              "        }    #T_21293010_ff11_11ea_8f27_0242ac1c0002row11_col10 {\n",
              "            background-color:  #b7cff9;\n",
              "            color:  #000000;\n",
              "        }    #T_21293010_ff11_11ea_8f27_0242ac1c0002row11_col11 {\n",
              "            background-color:  #b40426;\n",
              "            color:  #f1f1f1;\n",
              "        }    #T_21293010_ff11_11ea_8f27_0242ac1c0002row11_col12 {\n",
              "            background-color:  #a5c3fe;\n",
              "            color:  #000000;\n",
              "        }    #T_21293010_ff11_11ea_8f27_0242ac1c0002row11_col13 {\n",
              "            background-color:  #8db0fe;\n",
              "            color:  #000000;\n",
              "        }    #T_21293010_ff11_11ea_8f27_0242ac1c0002row12_col0 {\n",
              "            background-color:  #86a9fc;\n",
              "            color:  #000000;\n",
              "        }    #T_21293010_ff11_11ea_8f27_0242ac1c0002row12_col1 {\n",
              "            background-color:  #f7b89c;\n",
              "            color:  #000000;\n",
              "        }    #T_21293010_ff11_11ea_8f27_0242ac1c0002row12_col2 {\n",
              "            background-color:  #cfdaea;\n",
              "            color:  #000000;\n",
              "        }    #T_21293010_ff11_11ea_8f27_0242ac1c0002row12_col3 {\n",
              "            background-color:  #8caffe;\n",
              "            color:  #000000;\n",
              "        }    #T_21293010_ff11_11ea_8f27_0242ac1c0002row12_col4 {\n",
              "            background-color:  #85a8fc;\n",
              "            color:  #000000;\n",
              "        }    #T_21293010_ff11_11ea_8f27_0242ac1c0002row12_col5 {\n",
              "            background-color:  #7597f6;\n",
              "            color:  #000000;\n",
              "        }    #T_21293010_ff11_11ea_8f27_0242ac1c0002row12_col6 {\n",
              "            background-color:  #84a7fc;\n",
              "            color:  #000000;\n",
              "        }    #T_21293010_ff11_11ea_8f27_0242ac1c0002row12_col7 {\n",
              "            background-color:  #88abfd;\n",
              "            color:  #000000;\n",
              "        }    #T_21293010_ff11_11ea_8f27_0242ac1c0002row12_col8 {\n",
              "            background-color:  #cbd8ee;\n",
              "            color:  #000000;\n",
              "        }    #T_21293010_ff11_11ea_8f27_0242ac1c0002row12_col9 {\n",
              "            background-color:  #7597f6;\n",
              "            color:  #000000;\n",
              "        }    #T_21293010_ff11_11ea_8f27_0242ac1c0002row12_col10 {\n",
              "            background-color:  #85a8fc;\n",
              "            color:  #000000;\n",
              "        }    #T_21293010_ff11_11ea_8f27_0242ac1c0002row12_col11 {\n",
              "            background-color:  #3d50c3;\n",
              "            color:  #f1f1f1;\n",
              "        }    #T_21293010_ff11_11ea_8f27_0242ac1c0002row12_col12 {\n",
              "            background-color:  #b40426;\n",
              "            color:  #f1f1f1;\n",
              "        }    #T_21293010_ff11_11ea_8f27_0242ac1c0002row12_col13 {\n",
              "            background-color:  #6b8df0;\n",
              "            color:  #000000;\n",
              "        }    #T_21293010_ff11_11ea_8f27_0242ac1c0002row13_col0 {\n",
              "            background-color:  #dedcdb;\n",
              "            color:  #000000;\n",
              "        }    #T_21293010_ff11_11ea_8f27_0242ac1c0002row13_col1 {\n",
              "            background-color:  #bfd3f6;\n",
              "            color:  #000000;\n",
              "        }    #T_21293010_ff11_11ea_8f27_0242ac1c0002row13_col2 {\n",
              "            background-color:  #98b9ff;\n",
              "            color:  #000000;\n",
              "        }    #T_21293010_ff11_11ea_8f27_0242ac1c0002row13_col3 {\n",
              "            background-color:  #90b2fe;\n",
              "            color:  #000000;\n",
              "        }    #T_21293010_ff11_11ea_8f27_0242ac1c0002row13_col4 {\n",
              "            background-color:  #8badfd;\n",
              "            color:  #000000;\n",
              "        }    #T_21293010_ff11_11ea_8f27_0242ac1c0002row13_col5 {\n",
              "            background-color:  #7ea1fa;\n",
              "            color:  #000000;\n",
              "        }    #T_21293010_ff11_11ea_8f27_0242ac1c0002row13_col6 {\n",
              "            background-color:  #86a9fc;\n",
              "            color:  #000000;\n",
              "        }    #T_21293010_ff11_11ea_8f27_0242ac1c0002row13_col7 {\n",
              "            background-color:  #80a3fa;\n",
              "            color:  #000000;\n",
              "        }    #T_21293010_ff11_11ea_8f27_0242ac1c0002row13_col8 {\n",
              "            background-color:  #c7d7f0;\n",
              "            color:  #000000;\n",
              "        }    #T_21293010_ff11_11ea_8f27_0242ac1c0002row13_col9 {\n",
              "            background-color:  #6f92f3;\n",
              "            color:  #000000;\n",
              "        }    #T_21293010_ff11_11ea_8f27_0242ac1c0002row13_col10 {\n",
              "            background-color:  #81a4fb;\n",
              "            color:  #000000;\n",
              "        }    #T_21293010_ff11_11ea_8f27_0242ac1c0002row13_col11 {\n",
              "            background-color:  #3d50c3;\n",
              "            color:  #f1f1f1;\n",
              "        }    #T_21293010_ff11_11ea_8f27_0242ac1c0002row13_col12 {\n",
              "            background-color:  #85a8fc;\n",
              "            color:  #000000;\n",
              "        }    #T_21293010_ff11_11ea_8f27_0242ac1c0002row13_col13 {\n",
              "            background-color:  #b40426;\n",
              "            color:  #f1f1f1;\n",
              "        }</style><table id=\"T_21293010_ff11_11ea_8f27_0242ac1c0002\" ><thead>    <tr>        <th class=\"blank level0\" ></th>        <th class=\"col_heading level0 col0\" >longitude</th>        <th class=\"col_heading level0 col1\" >latitude</th>        <th class=\"col_heading level0 col2\" >housing_median_age</th>        <th class=\"col_heading level0 col3\" >total_rooms</th>        <th class=\"col_heading level0 col4\" >total_bedrooms</th>        <th class=\"col_heading level0 col5\" >population</th>        <th class=\"col_heading level0 col6\" >households</th>        <th class=\"col_heading level0 col7\" >median_income</th>        <th class=\"col_heading level0 col8\" >median_house_value</th>        <th class=\"col_heading level0 col9\" >ocean_proximity_<1H OCEAN</th>        <th class=\"col_heading level0 col10\" >ocean_proximity_INLAND</th>        <th class=\"col_heading level0 col11\" >ocean_proximity_ISLAND</th>        <th class=\"col_heading level0 col12\" >ocean_proximity_NEAR BAY</th>        <th class=\"col_heading level0 col13\" >ocean_proximity_NEAR OCEAN</th>    </tr></thead><tbody>\n",
              "                <tr>\n",
              "                        <th id=\"T_21293010_ff11_11ea_8f27_0242ac1c0002level0_row0\" class=\"row_heading level0 row0\" >longitude</th>\n",
              "                        <td id=\"T_21293010_ff11_11ea_8f27_0242ac1c0002row0_col0\" class=\"data row0 col0\" >1.000000</td>\n",
              "                        <td id=\"T_21293010_ff11_11ea_8f27_0242ac1c0002row0_col1\" class=\"data row0 col1\" >-0.924664</td>\n",
              "                        <td id=\"T_21293010_ff11_11ea_8f27_0242ac1c0002row0_col2\" class=\"data row0 col2\" >-0.108197</td>\n",
              "                        <td id=\"T_21293010_ff11_11ea_8f27_0242ac1c0002row0_col3\" class=\"data row0 col3\" >0.044568</td>\n",
              "                        <td id=\"T_21293010_ff11_11ea_8f27_0242ac1c0002row0_col4\" class=\"data row0 col4\" >0.069608</td>\n",
              "                        <td id=\"T_21293010_ff11_11ea_8f27_0242ac1c0002row0_col5\" class=\"data row0 col5\" >0.099773</td>\n",
              "                        <td id=\"T_21293010_ff11_11ea_8f27_0242ac1c0002row0_col6\" class=\"data row0 col6\" >0.055310</td>\n",
              "                        <td id=\"T_21293010_ff11_11ea_8f27_0242ac1c0002row0_col7\" class=\"data row0 col7\" >-0.015176</td>\n",
              "                        <td id=\"T_21293010_ff11_11ea_8f27_0242ac1c0002row0_col8\" class=\"data row0 col8\" >-0.045967</td>\n",
              "                        <td id=\"T_21293010_ff11_11ea_8f27_0242ac1c0002row0_col9\" class=\"data row0 col9\" >0.321121</td>\n",
              "                        <td id=\"T_21293010_ff11_11ea_8f27_0242ac1c0002row0_col10\" class=\"data row0 col10\" >-0.055575</td>\n",
              "                        <td id=\"T_21293010_ff11_11ea_8f27_0242ac1c0002row0_col11\" class=\"data row0 col11\" >0.009446</td>\n",
              "                        <td id=\"T_21293010_ff11_11ea_8f27_0242ac1c0002row0_col12\" class=\"data row0 col12\" >-0.474489</td>\n",
              "                        <td id=\"T_21293010_ff11_11ea_8f27_0242ac1c0002row0_col13\" class=\"data row0 col13\" >0.045509</td>\n",
              "            </tr>\n",
              "            <tr>\n",
              "                        <th id=\"T_21293010_ff11_11ea_8f27_0242ac1c0002level0_row1\" class=\"row_heading level0 row1\" >latitude</th>\n",
              "                        <td id=\"T_21293010_ff11_11ea_8f27_0242ac1c0002row1_col0\" class=\"data row1 col0\" >-0.924664</td>\n",
              "                        <td id=\"T_21293010_ff11_11ea_8f27_0242ac1c0002row1_col1\" class=\"data row1 col1\" >1.000000</td>\n",
              "                        <td id=\"T_21293010_ff11_11ea_8f27_0242ac1c0002row1_col2\" class=\"data row1 col2\" >0.011173</td>\n",
              "                        <td id=\"T_21293010_ff11_11ea_8f27_0242ac1c0002row1_col3\" class=\"data row1 col3\" >-0.036100</td>\n",
              "                        <td id=\"T_21293010_ff11_11ea_8f27_0242ac1c0002row1_col4\" class=\"data row1 col4\" >-0.066983</td>\n",
              "                        <td id=\"T_21293010_ff11_11ea_8f27_0242ac1c0002row1_col5\" class=\"data row1 col5\" >-0.108785</td>\n",
              "                        <td id=\"T_21293010_ff11_11ea_8f27_0242ac1c0002row1_col6\" class=\"data row1 col6\" >-0.071035</td>\n",
              "                        <td id=\"T_21293010_ff11_11ea_8f27_0242ac1c0002row1_col7\" class=\"data row1 col7\" >-0.079809</td>\n",
              "                        <td id=\"T_21293010_ff11_11ea_8f27_0242ac1c0002row1_col8\" class=\"data row1 col8\" >-0.144160</td>\n",
              "                        <td id=\"T_21293010_ff11_11ea_8f27_0242ac1c0002row1_col9\" class=\"data row1 col9\" >-0.446969</td>\n",
              "                        <td id=\"T_21293010_ff11_11ea_8f27_0242ac1c0002row1_col10\" class=\"data row1 col10\" >0.351166</td>\n",
              "                        <td id=\"T_21293010_ff11_11ea_8f27_0242ac1c0002row1_col11\" class=\"data row1 col11\" >-0.016572</td>\n",
              "                        <td id=\"T_21293010_ff11_11ea_8f27_0242ac1c0002row1_col12\" class=\"data row1 col12\" >0.358771</td>\n",
              "                        <td id=\"T_21293010_ff11_11ea_8f27_0242ac1c0002row1_col13\" class=\"data row1 col13\" >-0.160818</td>\n",
              "            </tr>\n",
              "            <tr>\n",
              "                        <th id=\"T_21293010_ff11_11ea_8f27_0242ac1c0002level0_row2\" class=\"row_heading level0 row2\" >housing_median_age</th>\n",
              "                        <td id=\"T_21293010_ff11_11ea_8f27_0242ac1c0002row2_col0\" class=\"data row2 col0\" >-0.108197</td>\n",
              "                        <td id=\"T_21293010_ff11_11ea_8f27_0242ac1c0002row2_col1\" class=\"data row2 col1\" >0.011173</td>\n",
              "                        <td id=\"T_21293010_ff11_11ea_8f27_0242ac1c0002row2_col2\" class=\"data row2 col2\" >1.000000</td>\n",
              "                        <td id=\"T_21293010_ff11_11ea_8f27_0242ac1c0002row2_col3\" class=\"data row2 col3\" >-0.361262</td>\n",
              "                        <td id=\"T_21293010_ff11_11ea_8f27_0242ac1c0002row2_col4\" class=\"data row2 col4\" >-0.320451</td>\n",
              "                        <td id=\"T_21293010_ff11_11ea_8f27_0242ac1c0002row2_col5\" class=\"data row2 col5\" >-0.296244</td>\n",
              "                        <td id=\"T_21293010_ff11_11ea_8f27_0242ac1c0002row2_col6\" class=\"data row2 col6\" >-0.302916</td>\n",
              "                        <td id=\"T_21293010_ff11_11ea_8f27_0242ac1c0002row2_col7\" class=\"data row2 col7\" >-0.119034</td>\n",
              "                        <td id=\"T_21293010_ff11_11ea_8f27_0242ac1c0002row2_col8\" class=\"data row2 col8\" >0.105623</td>\n",
              "                        <td id=\"T_21293010_ff11_11ea_8f27_0242ac1c0002row2_col9\" class=\"data row2 col9\" >0.045300</td>\n",
              "                        <td id=\"T_21293010_ff11_11ea_8f27_0242ac1c0002row2_col10\" class=\"data row2 col10\" >-0.236645</td>\n",
              "                        <td id=\"T_21293010_ff11_11ea_8f27_0242ac1c0002row2_col11\" class=\"data row2 col11\" >0.017020</td>\n",
              "                        <td id=\"T_21293010_ff11_11ea_8f27_0242ac1c0002row2_col12\" class=\"data row2 col12\" >0.255172</td>\n",
              "                        <td id=\"T_21293010_ff11_11ea_8f27_0242ac1c0002row2_col13\" class=\"data row2 col13\" >0.021622</td>\n",
              "            </tr>\n",
              "            <tr>\n",
              "                        <th id=\"T_21293010_ff11_11ea_8f27_0242ac1c0002level0_row3\" class=\"row_heading level0 row3\" >total_rooms</th>\n",
              "                        <td id=\"T_21293010_ff11_11ea_8f27_0242ac1c0002row3_col0\" class=\"data row3 col0\" >0.044568</td>\n",
              "                        <td id=\"T_21293010_ff11_11ea_8f27_0242ac1c0002row3_col1\" class=\"data row3 col1\" >-0.036100</td>\n",
              "                        <td id=\"T_21293010_ff11_11ea_8f27_0242ac1c0002row3_col2\" class=\"data row3 col2\" >-0.361262</td>\n",
              "                        <td id=\"T_21293010_ff11_11ea_8f27_0242ac1c0002row3_col3\" class=\"data row3 col3\" >1.000000</td>\n",
              "                        <td id=\"T_21293010_ff11_11ea_8f27_0242ac1c0002row3_col4\" class=\"data row3 col4\" >0.930380</td>\n",
              "                        <td id=\"T_21293010_ff11_11ea_8f27_0242ac1c0002row3_col5\" class=\"data row3 col5\" >0.857126</td>\n",
              "                        <td id=\"T_21293010_ff11_11ea_8f27_0242ac1c0002row3_col6\" class=\"data row3 col6\" >0.918484</td>\n",
              "                        <td id=\"T_21293010_ff11_11ea_8f27_0242ac1c0002row3_col7\" class=\"data row3 col7\" >0.198050</td>\n",
              "                        <td id=\"T_21293010_ff11_11ea_8f27_0242ac1c0002row3_col8\" class=\"data row3 col8\" >0.134153</td>\n",
              "                        <td id=\"T_21293010_ff11_11ea_8f27_0242ac1c0002row3_col9\" class=\"data row3 col9\" >-0.003031</td>\n",
              "                        <td id=\"T_21293010_ff11_11ea_8f27_0242ac1c0002row3_col10\" class=\"data row3 col10\" >0.025624</td>\n",
              "                        <td id=\"T_21293010_ff11_11ea_8f27_0242ac1c0002row3_col11\" class=\"data row3 col11\" >-0.007572</td>\n",
              "                        <td id=\"T_21293010_ff11_11ea_8f27_0242ac1c0002row3_col12\" class=\"data row3 col12\" >-0.023022</td>\n",
              "                        <td id=\"T_21293010_ff11_11ea_8f27_0242ac1c0002row3_col13\" class=\"data row3 col13\" >-0.009175</td>\n",
              "            </tr>\n",
              "            <tr>\n",
              "                        <th id=\"T_21293010_ff11_11ea_8f27_0242ac1c0002level0_row4\" class=\"row_heading level0 row4\" >total_bedrooms</th>\n",
              "                        <td id=\"T_21293010_ff11_11ea_8f27_0242ac1c0002row4_col0\" class=\"data row4 col0\" >0.069608</td>\n",
              "                        <td id=\"T_21293010_ff11_11ea_8f27_0242ac1c0002row4_col1\" class=\"data row4 col1\" >-0.066983</td>\n",
              "                        <td id=\"T_21293010_ff11_11ea_8f27_0242ac1c0002row4_col2\" class=\"data row4 col2\" >-0.320451</td>\n",
              "                        <td id=\"T_21293010_ff11_11ea_8f27_0242ac1c0002row4_col3\" class=\"data row4 col3\" >0.930380</td>\n",
              "                        <td id=\"T_21293010_ff11_11ea_8f27_0242ac1c0002row4_col4\" class=\"data row4 col4\" >1.000000</td>\n",
              "                        <td id=\"T_21293010_ff11_11ea_8f27_0242ac1c0002row4_col5\" class=\"data row4 col5\" >0.877747</td>\n",
              "                        <td id=\"T_21293010_ff11_11ea_8f27_0242ac1c0002row4_col6\" class=\"data row4 col6\" >0.979728</td>\n",
              "                        <td id=\"T_21293010_ff11_11ea_8f27_0242ac1c0002row4_col7\" class=\"data row4 col7\" >-0.007723</td>\n",
              "                        <td id=\"T_21293010_ff11_11ea_8f27_0242ac1c0002row4_col8\" class=\"data row4 col8\" >0.049686</td>\n",
              "                        <td id=\"T_21293010_ff11_11ea_8f27_0242ac1c0002row4_col9\" class=\"data row4 col9\" >0.018314</td>\n",
              "                        <td id=\"T_21293010_ff11_11ea_8f27_0242ac1c0002row4_col10\" class=\"data row4 col10\" >-0.006463</td>\n",
              "                        <td id=\"T_21293010_ff11_11ea_8f27_0242ac1c0002row4_col11\" class=\"data row4 col11\" >-0.004361</td>\n",
              "                        <td id=\"T_21293010_ff11_11ea_8f27_0242ac1c0002row4_col12\" class=\"data row4 col12\" >-0.019873</td>\n",
              "                        <td id=\"T_21293010_ff11_11ea_8f27_0242ac1c0002row4_col13\" class=\"data row4 col13\" >0.000679</td>\n",
              "            </tr>\n",
              "            <tr>\n",
              "                        <th id=\"T_21293010_ff11_11ea_8f27_0242ac1c0002level0_row5\" class=\"row_heading level0 row5\" >population</th>\n",
              "                        <td id=\"T_21293010_ff11_11ea_8f27_0242ac1c0002row5_col0\" class=\"data row5 col0\" >0.099773</td>\n",
              "                        <td id=\"T_21293010_ff11_11ea_8f27_0242ac1c0002row5_col1\" class=\"data row5 col1\" >-0.108785</td>\n",
              "                        <td id=\"T_21293010_ff11_11ea_8f27_0242ac1c0002row5_col2\" class=\"data row5 col2\" >-0.296244</td>\n",
              "                        <td id=\"T_21293010_ff11_11ea_8f27_0242ac1c0002row5_col3\" class=\"data row5 col3\" >0.857126</td>\n",
              "                        <td id=\"T_21293010_ff11_11ea_8f27_0242ac1c0002row5_col4\" class=\"data row5 col4\" >0.877747</td>\n",
              "                        <td id=\"T_21293010_ff11_11ea_8f27_0242ac1c0002row5_col5\" class=\"data row5 col5\" >1.000000</td>\n",
              "                        <td id=\"T_21293010_ff11_11ea_8f27_0242ac1c0002row5_col6\" class=\"data row5 col6\" >0.907222</td>\n",
              "                        <td id=\"T_21293010_ff11_11ea_8f27_0242ac1c0002row5_col7\" class=\"data row5 col7\" >0.004834</td>\n",
              "                        <td id=\"T_21293010_ff11_11ea_8f27_0242ac1c0002row5_col8\" class=\"data row5 col8\" >-0.024650</td>\n",
              "                        <td id=\"T_21293010_ff11_11ea_8f27_0242ac1c0002row5_col9\" class=\"data row5 col9\" >0.074613</td>\n",
              "                        <td id=\"T_21293010_ff11_11ea_8f27_0242ac1c0002row5_col10\" class=\"data row5 col10\" >-0.020732</td>\n",
              "                        <td id=\"T_21293010_ff11_11ea_8f27_0242ac1c0002row5_col11\" class=\"data row5 col11\" >-0.010412</td>\n",
              "                        <td id=\"T_21293010_ff11_11ea_8f27_0242ac1c0002row5_col12\" class=\"data row5 col12\" >-0.060880</td>\n",
              "                        <td id=\"T_21293010_ff11_11ea_8f27_0242ac1c0002row5_col13\" class=\"data row5 col13\" >-0.024264</td>\n",
              "            </tr>\n",
              "            <tr>\n",
              "                        <th id=\"T_21293010_ff11_11ea_8f27_0242ac1c0002level0_row6\" class=\"row_heading level0 row6\" >households</th>\n",
              "                        <td id=\"T_21293010_ff11_11ea_8f27_0242ac1c0002row6_col0\" class=\"data row6 col0\" >0.055310</td>\n",
              "                        <td id=\"T_21293010_ff11_11ea_8f27_0242ac1c0002row6_col1\" class=\"data row6 col1\" >-0.071035</td>\n",
              "                        <td id=\"T_21293010_ff11_11ea_8f27_0242ac1c0002row6_col2\" class=\"data row6 col2\" >-0.302916</td>\n",
              "                        <td id=\"T_21293010_ff11_11ea_8f27_0242ac1c0002row6_col3\" class=\"data row6 col3\" >0.918484</td>\n",
              "                        <td id=\"T_21293010_ff11_11ea_8f27_0242ac1c0002row6_col4\" class=\"data row6 col4\" >0.979728</td>\n",
              "                        <td id=\"T_21293010_ff11_11ea_8f27_0242ac1c0002row6_col5\" class=\"data row6 col5\" >0.907222</td>\n",
              "                        <td id=\"T_21293010_ff11_11ea_8f27_0242ac1c0002row6_col6\" class=\"data row6 col6\" >1.000000</td>\n",
              "                        <td id=\"T_21293010_ff11_11ea_8f27_0242ac1c0002row6_col7\" class=\"data row6 col7\" >0.013033</td>\n",
              "                        <td id=\"T_21293010_ff11_11ea_8f27_0242ac1c0002row6_col8\" class=\"data row6 col8\" >0.065843</td>\n",
              "                        <td id=\"T_21293010_ff11_11ea_8f27_0242ac1c0002row6_col9\" class=\"data row6 col9\" >0.042435</td>\n",
              "                        <td id=\"T_21293010_ff11_11ea_8f27_0242ac1c0002row6_col10\" class=\"data row6 col10\" >-0.039402</td>\n",
              "                        <td id=\"T_21293010_ff11_11ea_8f27_0242ac1c0002row6_col11\" class=\"data row6 col11\" >-0.009077</td>\n",
              "                        <td id=\"T_21293010_ff11_11ea_8f27_0242ac1c0002row6_col12\" class=\"data row6 col12\" >-0.010093</td>\n",
              "                        <td id=\"T_21293010_ff11_11ea_8f27_0242ac1c0002row6_col13\" class=\"data row6 col13\" >0.001714</td>\n",
              "            </tr>\n",
              "            <tr>\n",
              "                        <th id=\"T_21293010_ff11_11ea_8f27_0242ac1c0002level0_row7\" class=\"row_heading level0 row7\" >median_income</th>\n",
              "                        <td id=\"T_21293010_ff11_11ea_8f27_0242ac1c0002row7_col0\" class=\"data row7 col0\" >-0.015176</td>\n",
              "                        <td id=\"T_21293010_ff11_11ea_8f27_0242ac1c0002row7_col1\" class=\"data row7 col1\" >-0.079809</td>\n",
              "                        <td id=\"T_21293010_ff11_11ea_8f27_0242ac1c0002row7_col2\" class=\"data row7 col2\" >-0.119034</td>\n",
              "                        <td id=\"T_21293010_ff11_11ea_8f27_0242ac1c0002row7_col3\" class=\"data row7 col3\" >0.198050</td>\n",
              "                        <td id=\"T_21293010_ff11_11ea_8f27_0242ac1c0002row7_col4\" class=\"data row7 col4\" >-0.007723</td>\n",
              "                        <td id=\"T_21293010_ff11_11ea_8f27_0242ac1c0002row7_col5\" class=\"data row7 col5\" >0.004834</td>\n",
              "                        <td id=\"T_21293010_ff11_11ea_8f27_0242ac1c0002row7_col6\" class=\"data row7 col6\" >0.013033</td>\n",
              "                        <td id=\"T_21293010_ff11_11ea_8f27_0242ac1c0002row7_col7\" class=\"data row7 col7\" >1.000000</td>\n",
              "                        <td id=\"T_21293010_ff11_11ea_8f27_0242ac1c0002row7_col8\" class=\"data row7 col8\" >0.688075</td>\n",
              "                        <td id=\"T_21293010_ff11_11ea_8f27_0242ac1c0002row7_col9\" class=\"data row7 col9\" >0.168876</td>\n",
              "                        <td id=\"T_21293010_ff11_11ea_8f27_0242ac1c0002row7_col10\" class=\"data row7 col10\" >-0.237496</td>\n",
              "                        <td id=\"T_21293010_ff11_11ea_8f27_0242ac1c0002row7_col11\" class=\"data row7 col11\" >-0.009228</td>\n",
              "                        <td id=\"T_21293010_ff11_11ea_8f27_0242ac1c0002row7_col12\" class=\"data row7 col12\" >0.056197</td>\n",
              "                        <td id=\"T_21293010_ff11_11ea_8f27_0242ac1c0002row7_col13\" class=\"data row7 col13\" >0.027344</td>\n",
              "            </tr>\n",
              "            <tr>\n",
              "                        <th id=\"T_21293010_ff11_11ea_8f27_0242ac1c0002level0_row8\" class=\"row_heading level0 row8\" >median_house_value</th>\n",
              "                        <td id=\"T_21293010_ff11_11ea_8f27_0242ac1c0002row8_col0\" class=\"data row8 col0\" >-0.045967</td>\n",
              "                        <td id=\"T_21293010_ff11_11ea_8f27_0242ac1c0002row8_col1\" class=\"data row8 col1\" >-0.144160</td>\n",
              "                        <td id=\"T_21293010_ff11_11ea_8f27_0242ac1c0002row8_col2\" class=\"data row8 col2\" >0.105623</td>\n",
              "                        <td id=\"T_21293010_ff11_11ea_8f27_0242ac1c0002row8_col3\" class=\"data row8 col3\" >0.134153</td>\n",
              "                        <td id=\"T_21293010_ff11_11ea_8f27_0242ac1c0002row8_col4\" class=\"data row8 col4\" >0.049686</td>\n",
              "                        <td id=\"T_21293010_ff11_11ea_8f27_0242ac1c0002row8_col5\" class=\"data row8 col5\" >-0.024650</td>\n",
              "                        <td id=\"T_21293010_ff11_11ea_8f27_0242ac1c0002row8_col6\" class=\"data row8 col6\" >0.065843</td>\n",
              "                        <td id=\"T_21293010_ff11_11ea_8f27_0242ac1c0002row8_col7\" class=\"data row8 col7\" >0.688075</td>\n",
              "                        <td id=\"T_21293010_ff11_11ea_8f27_0242ac1c0002row8_col8\" class=\"data row8 col8\" >1.000000</td>\n",
              "                        <td id=\"T_21293010_ff11_11ea_8f27_0242ac1c0002row8_col9\" class=\"data row8 col9\" >0.256617</td>\n",
              "                        <td id=\"T_21293010_ff11_11ea_8f27_0242ac1c0002row8_col10\" class=\"data row8 col10\" >-0.484859</td>\n",
              "                        <td id=\"T_21293010_ff11_11ea_8f27_0242ac1c0002row8_col11\" class=\"data row8 col11\" >0.023416</td>\n",
              "                        <td id=\"T_21293010_ff11_11ea_8f27_0242ac1c0002row8_col12\" class=\"data row8 col12\" >0.160284</td>\n",
              "                        <td id=\"T_21293010_ff11_11ea_8f27_0242ac1c0002row8_col13\" class=\"data row8 col13\" >0.141862</td>\n",
              "            </tr>\n",
              "            <tr>\n",
              "                        <th id=\"T_21293010_ff11_11ea_8f27_0242ac1c0002level0_row9\" class=\"row_heading level0 row9\" >ocean_proximity_<1H OCEAN</th>\n",
              "                        <td id=\"T_21293010_ff11_11ea_8f27_0242ac1c0002row9_col0\" class=\"data row9 col0\" >0.321121</td>\n",
              "                        <td id=\"T_21293010_ff11_11ea_8f27_0242ac1c0002row9_col1\" class=\"data row9 col1\" >-0.446969</td>\n",
              "                        <td id=\"T_21293010_ff11_11ea_8f27_0242ac1c0002row9_col2\" class=\"data row9 col2\" >0.045300</td>\n",
              "                        <td id=\"T_21293010_ff11_11ea_8f27_0242ac1c0002row9_col3\" class=\"data row9 col3\" >-0.003031</td>\n",
              "                        <td id=\"T_21293010_ff11_11ea_8f27_0242ac1c0002row9_col4\" class=\"data row9 col4\" >0.018314</td>\n",
              "                        <td id=\"T_21293010_ff11_11ea_8f27_0242ac1c0002row9_col5\" class=\"data row9 col5\" >0.074613</td>\n",
              "                        <td id=\"T_21293010_ff11_11ea_8f27_0242ac1c0002row9_col6\" class=\"data row9 col6\" >0.042435</td>\n",
              "                        <td id=\"T_21293010_ff11_11ea_8f27_0242ac1c0002row9_col7\" class=\"data row9 col7\" >0.168876</td>\n",
              "                        <td id=\"T_21293010_ff11_11ea_8f27_0242ac1c0002row9_col8\" class=\"data row9 col8\" >0.256617</td>\n",
              "                        <td id=\"T_21293010_ff11_11ea_8f27_0242ac1c0002row9_col9\" class=\"data row9 col9\" >1.000000</td>\n",
              "                        <td id=\"T_21293010_ff11_11ea_8f27_0242ac1c0002row9_col10\" class=\"data row9 col10\" >-0.607669</td>\n",
              "                        <td id=\"T_21293010_ff11_11ea_8f27_0242ac1c0002row9_col11\" class=\"data row9 col11\" >-0.013872</td>\n",
              "                        <td id=\"T_21293010_ff11_11ea_8f27_0242ac1c0002row9_col12\" class=\"data row9 col12\" >-0.314813</td>\n",
              "                        <td id=\"T_21293010_ff11_11ea_8f27_0242ac1c0002row9_col13\" class=\"data row9 col13\" >-0.342620</td>\n",
              "            </tr>\n",
              "            <tr>\n",
              "                        <th id=\"T_21293010_ff11_11ea_8f27_0242ac1c0002level0_row10\" class=\"row_heading level0 row10\" >ocean_proximity_INLAND</th>\n",
              "                        <td id=\"T_21293010_ff11_11ea_8f27_0242ac1c0002row10_col0\" class=\"data row10 col0\" >-0.055575</td>\n",
              "                        <td id=\"T_21293010_ff11_11ea_8f27_0242ac1c0002row10_col1\" class=\"data row10 col1\" >0.351166</td>\n",
              "                        <td id=\"T_21293010_ff11_11ea_8f27_0242ac1c0002row10_col2\" class=\"data row10 col2\" >-0.236645</td>\n",
              "                        <td id=\"T_21293010_ff11_11ea_8f27_0242ac1c0002row10_col3\" class=\"data row10 col3\" >0.025624</td>\n",
              "                        <td id=\"T_21293010_ff11_11ea_8f27_0242ac1c0002row10_col4\" class=\"data row10 col4\" >-0.006463</td>\n",
              "                        <td id=\"T_21293010_ff11_11ea_8f27_0242ac1c0002row10_col5\" class=\"data row10 col5\" >-0.020732</td>\n",
              "                        <td id=\"T_21293010_ff11_11ea_8f27_0242ac1c0002row10_col6\" class=\"data row10 col6\" >-0.039402</td>\n",
              "                        <td id=\"T_21293010_ff11_11ea_8f27_0242ac1c0002row10_col7\" class=\"data row10 col7\" >-0.237496</td>\n",
              "                        <td id=\"T_21293010_ff11_11ea_8f27_0242ac1c0002row10_col8\" class=\"data row10 col8\" >-0.484859</td>\n",
              "                        <td id=\"T_21293010_ff11_11ea_8f27_0242ac1c0002row10_col9\" class=\"data row10 col9\" >-0.607669</td>\n",
              "                        <td id=\"T_21293010_ff11_11ea_8f27_0242ac1c0002row10_col10\" class=\"data row10 col10\" >1.000000</td>\n",
              "                        <td id=\"T_21293010_ff11_11ea_8f27_0242ac1c0002row10_col11\" class=\"data row10 col11\" >-0.010614</td>\n",
              "                        <td id=\"T_21293010_ff11_11ea_8f27_0242ac1c0002row10_col12\" class=\"data row10 col12\" >-0.240887</td>\n",
              "                        <td id=\"T_21293010_ff11_11ea_8f27_0242ac1c0002row10_col13\" class=\"data row10 col13\" >-0.262163</td>\n",
              "            </tr>\n",
              "            <tr>\n",
              "                        <th id=\"T_21293010_ff11_11ea_8f27_0242ac1c0002level0_row11\" class=\"row_heading level0 row11\" >ocean_proximity_ISLAND</th>\n",
              "                        <td id=\"T_21293010_ff11_11ea_8f27_0242ac1c0002row11_col0\" class=\"data row11 col0\" >0.009446</td>\n",
              "                        <td id=\"T_21293010_ff11_11ea_8f27_0242ac1c0002row11_col1\" class=\"data row11 col1\" >-0.016572</td>\n",
              "                        <td id=\"T_21293010_ff11_11ea_8f27_0242ac1c0002row11_col2\" class=\"data row11 col2\" >0.017020</td>\n",
              "                        <td id=\"T_21293010_ff11_11ea_8f27_0242ac1c0002row11_col3\" class=\"data row11 col3\" >-0.007572</td>\n",
              "                        <td id=\"T_21293010_ff11_11ea_8f27_0242ac1c0002row11_col4\" class=\"data row11 col4\" >-0.004361</td>\n",
              "                        <td id=\"T_21293010_ff11_11ea_8f27_0242ac1c0002row11_col5\" class=\"data row11 col5\" >-0.010412</td>\n",
              "                        <td id=\"T_21293010_ff11_11ea_8f27_0242ac1c0002row11_col6\" class=\"data row11 col6\" >-0.009077</td>\n",
              "                        <td id=\"T_21293010_ff11_11ea_8f27_0242ac1c0002row11_col7\" class=\"data row11 col7\" >-0.009228</td>\n",
              "                        <td id=\"T_21293010_ff11_11ea_8f27_0242ac1c0002row11_col8\" class=\"data row11 col8\" >0.023416</td>\n",
              "                        <td id=\"T_21293010_ff11_11ea_8f27_0242ac1c0002row11_col9\" class=\"data row11 col9\" >-0.013872</td>\n",
              "                        <td id=\"T_21293010_ff11_11ea_8f27_0242ac1c0002row11_col10\" class=\"data row11 col10\" >-0.010614</td>\n",
              "                        <td id=\"T_21293010_ff11_11ea_8f27_0242ac1c0002row11_col11\" class=\"data row11 col11\" >1.000000</td>\n",
              "                        <td id=\"T_21293010_ff11_11ea_8f27_0242ac1c0002row11_col12\" class=\"data row11 col12\" >-0.005499</td>\n",
              "                        <td id=\"T_21293010_ff11_11ea_8f27_0242ac1c0002row11_col13\" class=\"data row11 col13\" >-0.005985</td>\n",
              "            </tr>\n",
              "            <tr>\n",
              "                        <th id=\"T_21293010_ff11_11ea_8f27_0242ac1c0002level0_row12\" class=\"row_heading level0 row12\" >ocean_proximity_NEAR BAY</th>\n",
              "                        <td id=\"T_21293010_ff11_11ea_8f27_0242ac1c0002row12_col0\" class=\"data row12 col0\" >-0.474489</td>\n",
              "                        <td id=\"T_21293010_ff11_11ea_8f27_0242ac1c0002row12_col1\" class=\"data row12 col1\" >0.358771</td>\n",
              "                        <td id=\"T_21293010_ff11_11ea_8f27_0242ac1c0002row12_col2\" class=\"data row12 col2\" >0.255172</td>\n",
              "                        <td id=\"T_21293010_ff11_11ea_8f27_0242ac1c0002row12_col3\" class=\"data row12 col3\" >-0.023022</td>\n",
              "                        <td id=\"T_21293010_ff11_11ea_8f27_0242ac1c0002row12_col4\" class=\"data row12 col4\" >-0.019873</td>\n",
              "                        <td id=\"T_21293010_ff11_11ea_8f27_0242ac1c0002row12_col5\" class=\"data row12 col5\" >-0.060880</td>\n",
              "                        <td id=\"T_21293010_ff11_11ea_8f27_0242ac1c0002row12_col6\" class=\"data row12 col6\" >-0.010093</td>\n",
              "                        <td id=\"T_21293010_ff11_11ea_8f27_0242ac1c0002row12_col7\" class=\"data row12 col7\" >0.056197</td>\n",
              "                        <td id=\"T_21293010_ff11_11ea_8f27_0242ac1c0002row12_col8\" class=\"data row12 col8\" >0.160284</td>\n",
              "                        <td id=\"T_21293010_ff11_11ea_8f27_0242ac1c0002row12_col9\" class=\"data row12 col9\" >-0.314813</td>\n",
              "                        <td id=\"T_21293010_ff11_11ea_8f27_0242ac1c0002row12_col10\" class=\"data row12 col10\" >-0.240887</td>\n",
              "                        <td id=\"T_21293010_ff11_11ea_8f27_0242ac1c0002row12_col11\" class=\"data row12 col11\" >-0.005499</td>\n",
              "                        <td id=\"T_21293010_ff11_11ea_8f27_0242ac1c0002row12_col12\" class=\"data row12 col12\" >1.000000</td>\n",
              "                        <td id=\"T_21293010_ff11_11ea_8f27_0242ac1c0002row12_col13\" class=\"data row12 col13\" >-0.135818</td>\n",
              "            </tr>\n",
              "            <tr>\n",
              "                        <th id=\"T_21293010_ff11_11ea_8f27_0242ac1c0002level0_row13\" class=\"row_heading level0 row13\" >ocean_proximity_NEAR OCEAN</th>\n",
              "                        <td id=\"T_21293010_ff11_11ea_8f27_0242ac1c0002row13_col0\" class=\"data row13 col0\" >0.045509</td>\n",
              "                        <td id=\"T_21293010_ff11_11ea_8f27_0242ac1c0002row13_col1\" class=\"data row13 col1\" >-0.160818</td>\n",
              "                        <td id=\"T_21293010_ff11_11ea_8f27_0242ac1c0002row13_col2\" class=\"data row13 col2\" >0.021622</td>\n",
              "                        <td id=\"T_21293010_ff11_11ea_8f27_0242ac1c0002row13_col3\" class=\"data row13 col3\" >-0.009175</td>\n",
              "                        <td id=\"T_21293010_ff11_11ea_8f27_0242ac1c0002row13_col4\" class=\"data row13 col4\" >0.000679</td>\n",
              "                        <td id=\"T_21293010_ff11_11ea_8f27_0242ac1c0002row13_col5\" class=\"data row13 col5\" >-0.024264</td>\n",
              "                        <td id=\"T_21293010_ff11_11ea_8f27_0242ac1c0002row13_col6\" class=\"data row13 col6\" >0.001714</td>\n",
              "                        <td id=\"T_21293010_ff11_11ea_8f27_0242ac1c0002row13_col7\" class=\"data row13 col7\" >0.027344</td>\n",
              "                        <td id=\"T_21293010_ff11_11ea_8f27_0242ac1c0002row13_col8\" class=\"data row13 col8\" >0.141862</td>\n",
              "                        <td id=\"T_21293010_ff11_11ea_8f27_0242ac1c0002row13_col9\" class=\"data row13 col9\" >-0.342620</td>\n",
              "                        <td id=\"T_21293010_ff11_11ea_8f27_0242ac1c0002row13_col10\" class=\"data row13 col10\" >-0.262163</td>\n",
              "                        <td id=\"T_21293010_ff11_11ea_8f27_0242ac1c0002row13_col11\" class=\"data row13 col11\" >-0.005985</td>\n",
              "                        <td id=\"T_21293010_ff11_11ea_8f27_0242ac1c0002row13_col12\" class=\"data row13 col12\" >-0.135818</td>\n",
              "                        <td id=\"T_21293010_ff11_11ea_8f27_0242ac1c0002row13_col13\" class=\"data row13 col13\" >1.000000</td>\n",
              "            </tr>\n",
              "    </tbody></table>"
            ],
            "text/plain": [
              "<pandas.io.formats.style.Styler at 0x7fbe4f7b9f60>"
            ]
          },
          "metadata": {
            "tags": []
          },
          "execution_count": 18
        }
      ]
    },
    {
      "cell_type": "code",
      "metadata": {
        "id": "PkWaDXMCKD70"
      },
      "source": [
        "#Dropping total  bedrooms and population because they explain the same information as total rooms and households respectively\n",
        "df2 = df.drop(['total_bedrooms','population'],axis = 1)"
      ],
      "execution_count": null,
      "outputs": []
    },
    {
      "cell_type": "code",
      "metadata": {
        "id": "eC-GkLEIKJwX",
        "outputId": "21f333f7-e61e-4b5a-9c74-332f51684b85",
        "colab": {
          "base_uri": "https://localhost:8080/",
          "height": 443
        }
      },
      "source": [
        "# #rescalling\n",
        "from sklearn.preprocessing import MinMaxScaler\n",
        "scaler = MinMaxScaler()\n",
        "scaler.fit(df)\n",
        "col = df.columns\n",
        "df2 = scaler.transform(df)\n",
        "df = pd.DataFrame(df2, columns=col)\n",
        "df"
      ],
      "execution_count": null,
      "outputs": [
        {
          "output_type": "execute_result",
          "data": {
            "text/html": [
              "<div>\n",
              "<style scoped>\n",
              "    .dataframe tbody tr th:only-of-type {\n",
              "        vertical-align: middle;\n",
              "    }\n",
              "\n",
              "    .dataframe tbody tr th {\n",
              "        vertical-align: top;\n",
              "    }\n",
              "\n",
              "    .dataframe thead th {\n",
              "        text-align: right;\n",
              "    }\n",
              "</style>\n",
              "<table border=\"1\" class=\"dataframe\">\n",
              "  <thead>\n",
              "    <tr style=\"text-align: right;\">\n",
              "      <th></th>\n",
              "      <th>longitude</th>\n",
              "      <th>latitude</th>\n",
              "      <th>housing_median_age</th>\n",
              "      <th>total_rooms</th>\n",
              "      <th>total_bedrooms</th>\n",
              "      <th>population</th>\n",
              "      <th>households</th>\n",
              "      <th>median_income</th>\n",
              "      <th>median_house_value</th>\n",
              "      <th>ocean_proximity_&lt;1H OCEAN</th>\n",
              "      <th>ocean_proximity_INLAND</th>\n",
              "      <th>ocean_proximity_ISLAND</th>\n",
              "      <th>ocean_proximity_NEAR BAY</th>\n",
              "      <th>ocean_proximity_NEAR OCEAN</th>\n",
              "    </tr>\n",
              "  </thead>\n",
              "  <tbody>\n",
              "    <tr>\n",
              "      <th>0</th>\n",
              "      <td>0.211155</td>\n",
              "      <td>0.567481</td>\n",
              "      <td>0.784314</td>\n",
              "      <td>0.022331</td>\n",
              "      <td>0.019863</td>\n",
              "      <td>0.008941</td>\n",
              "      <td>0.020556</td>\n",
              "      <td>0.539668</td>\n",
              "      <td>0.902266</td>\n",
              "      <td>0.0</td>\n",
              "      <td>0.0</td>\n",
              "      <td>0.0</td>\n",
              "      <td>1.0</td>\n",
              "      <td>0.0</td>\n",
              "    </tr>\n",
              "    <tr>\n",
              "      <th>1</th>\n",
              "      <td>0.212151</td>\n",
              "      <td>0.565356</td>\n",
              "      <td>0.392157</td>\n",
              "      <td>0.180503</td>\n",
              "      <td>0.171477</td>\n",
              "      <td>0.067210</td>\n",
              "      <td>0.186976</td>\n",
              "      <td>0.538027</td>\n",
              "      <td>0.708247</td>\n",
              "      <td>0.0</td>\n",
              "      <td>0.0</td>\n",
              "      <td>0.0</td>\n",
              "      <td>1.0</td>\n",
              "      <td>0.0</td>\n",
              "    </tr>\n",
              "    <tr>\n",
              "      <th>2</th>\n",
              "      <td>0.210159</td>\n",
              "      <td>0.564293</td>\n",
              "      <td>1.000000</td>\n",
              "      <td>0.037260</td>\n",
              "      <td>0.029330</td>\n",
              "      <td>0.013818</td>\n",
              "      <td>0.028943</td>\n",
              "      <td>0.466028</td>\n",
              "      <td>0.695051</td>\n",
              "      <td>0.0</td>\n",
              "      <td>0.0</td>\n",
              "      <td>0.0</td>\n",
              "      <td>1.0</td>\n",
              "      <td>0.0</td>\n",
              "    </tr>\n",
              "    <tr>\n",
              "      <th>3</th>\n",
              "      <td>0.209163</td>\n",
              "      <td>0.564293</td>\n",
              "      <td>1.000000</td>\n",
              "      <td>0.032352</td>\n",
              "      <td>0.036313</td>\n",
              "      <td>0.015555</td>\n",
              "      <td>0.035849</td>\n",
              "      <td>0.354699</td>\n",
              "      <td>0.672783</td>\n",
              "      <td>0.0</td>\n",
              "      <td>0.0</td>\n",
              "      <td>0.0</td>\n",
              "      <td>1.0</td>\n",
              "      <td>0.0</td>\n",
              "    </tr>\n",
              "    <tr>\n",
              "      <th>4</th>\n",
              "      <td>0.209163</td>\n",
              "      <td>0.564293</td>\n",
              "      <td>1.000000</td>\n",
              "      <td>0.041330</td>\n",
              "      <td>0.043296</td>\n",
              "      <td>0.015752</td>\n",
              "      <td>0.042427</td>\n",
              "      <td>0.230776</td>\n",
              "      <td>0.674638</td>\n",
              "      <td>0.0</td>\n",
              "      <td>0.0</td>\n",
              "      <td>0.0</td>\n",
              "      <td>1.0</td>\n",
              "      <td>0.0</td>\n",
              "    </tr>\n",
              "    <tr>\n",
              "      <th>...</th>\n",
              "      <td>...</td>\n",
              "      <td>...</td>\n",
              "      <td>...</td>\n",
              "      <td>...</td>\n",
              "      <td>...</td>\n",
              "      <td>...</td>\n",
              "      <td>...</td>\n",
              "      <td>...</td>\n",
              "      <td>...</td>\n",
              "      <td>...</td>\n",
              "      <td>...</td>\n",
              "      <td>...</td>\n",
              "      <td>...</td>\n",
              "      <td>...</td>\n",
              "    </tr>\n",
              "    <tr>\n",
              "      <th>20635</th>\n",
              "      <td>0.324701</td>\n",
              "      <td>0.737513</td>\n",
              "      <td>0.470588</td>\n",
              "      <td>0.042296</td>\n",
              "      <td>0.057883</td>\n",
              "      <td>0.023599</td>\n",
              "      <td>0.054103</td>\n",
              "      <td>0.073130</td>\n",
              "      <td>0.130105</td>\n",
              "      <td>0.0</td>\n",
              "      <td>1.0</td>\n",
              "      <td>0.0</td>\n",
              "      <td>0.0</td>\n",
              "      <td>0.0</td>\n",
              "    </tr>\n",
              "    <tr>\n",
              "      <th>20636</th>\n",
              "      <td>0.312749</td>\n",
              "      <td>0.738576</td>\n",
              "      <td>0.333333</td>\n",
              "      <td>0.017676</td>\n",
              "      <td>0.023122</td>\n",
              "      <td>0.009894</td>\n",
              "      <td>0.018582</td>\n",
              "      <td>0.141853</td>\n",
              "      <td>0.128043</td>\n",
              "      <td>0.0</td>\n",
              "      <td>1.0</td>\n",
              "      <td>0.0</td>\n",
              "      <td>0.0</td>\n",
              "      <td>0.0</td>\n",
              "    </tr>\n",
              "    <tr>\n",
              "      <th>20637</th>\n",
              "      <td>0.311753</td>\n",
              "      <td>0.732200</td>\n",
              "      <td>0.313725</td>\n",
              "      <td>0.057277</td>\n",
              "      <td>0.075109</td>\n",
              "      <td>0.028140</td>\n",
              "      <td>0.071041</td>\n",
              "      <td>0.082764</td>\n",
              "      <td>0.159383</td>\n",
              "      <td>0.0</td>\n",
              "      <td>1.0</td>\n",
              "      <td>0.0</td>\n",
              "      <td>0.0</td>\n",
              "      <td>0.0</td>\n",
              "    </tr>\n",
              "    <tr>\n",
              "      <th>20638</th>\n",
              "      <td>0.301793</td>\n",
              "      <td>0.732200</td>\n",
              "      <td>0.333333</td>\n",
              "      <td>0.047256</td>\n",
              "      <td>0.063315</td>\n",
              "      <td>0.020684</td>\n",
              "      <td>0.057227</td>\n",
              "      <td>0.094295</td>\n",
              "      <td>0.143713</td>\n",
              "      <td>0.0</td>\n",
              "      <td>1.0</td>\n",
              "      <td>0.0</td>\n",
              "      <td>0.0</td>\n",
              "      <td>0.0</td>\n",
              "    </tr>\n",
              "    <tr>\n",
              "      <th>20639</th>\n",
              "      <td>0.309761</td>\n",
              "      <td>0.725824</td>\n",
              "      <td>0.294118</td>\n",
              "      <td>0.070782</td>\n",
              "      <td>0.095438</td>\n",
              "      <td>0.038790</td>\n",
              "      <td>0.086992</td>\n",
              "      <td>0.130253</td>\n",
              "      <td>0.153403</td>\n",
              "      <td>0.0</td>\n",
              "      <td>1.0</td>\n",
              "      <td>0.0</td>\n",
              "      <td>0.0</td>\n",
              "      <td>0.0</td>\n",
              "    </tr>\n",
              "  </tbody>\n",
              "</table>\n",
              "<p>20640 rows × 14 columns</p>\n",
              "</div>"
            ],
            "text/plain": [
              "       longitude  ...  ocean_proximity_NEAR OCEAN\n",
              "0       0.211155  ...                         0.0\n",
              "1       0.212151  ...                         0.0\n",
              "2       0.210159  ...                         0.0\n",
              "3       0.209163  ...                         0.0\n",
              "4       0.209163  ...                         0.0\n",
              "...          ...  ...                         ...\n",
              "20635   0.324701  ...                         0.0\n",
              "20636   0.312749  ...                         0.0\n",
              "20637   0.311753  ...                         0.0\n",
              "20638   0.301793  ...                         0.0\n",
              "20639   0.309761  ...                         0.0\n",
              "\n",
              "[20640 rows x 14 columns]"
            ]
          },
          "metadata": {
            "tags": []
          },
          "execution_count": 20
        }
      ]
    },
    {
      "cell_type": "markdown",
      "metadata": {
        "id": "cyH6Tx-LfB9z"
      },
      "source": [
        "The median house values are continuous and hence it is a regression problem"
      ]
    },
    {
      "cell_type": "code",
      "metadata": {
        "id": "K-P7D9_dB9p-"
      },
      "source": [
        "#split data into training and testing data\n",
        "from sklearn.model_selection import train_test_split\n",
        "\n",
        "X = df.drop('median_house_value', axis=1)\n",
        "X= X.fillna(X.mean())\n",
        "y = df['median_house_value']\n",
        "\n",
        "\n",
        "original_Xtrain, original_Xtest, original_ytrain, original_ytest = train_test_split(X, y, test_size=0.2, random_state=42)"
      ],
      "execution_count": null,
      "outputs": []
    },
    {
      "cell_type": "markdown",
      "metadata": {
        "id": "6hiOe9XNn7Zt"
      },
      "source": [
        ""
      ]
    },
    {
      "cell_type": "markdown",
      "metadata": {
        "id": "EdCO3Vu4n7gn"
      },
      "source": [
        "# LINEAR REGRESSION"
      ]
    },
    {
      "cell_type": "code",
      "metadata": {
        "id": "KRyO2ZEZFA7_"
      },
      "source": [
        "from sklearn.linear_model import LinearRegression\n",
        "\n",
        "clf = LinearRegression().fit(original_Xtrain, original_ytrain)\n",
        "pred = clf.predict(original_Xtest)"
      ],
      "execution_count": null,
      "outputs": []
    },
    {
      "cell_type": "code",
      "metadata": {
        "id": "ZAF7J6i-HBQI",
        "outputId": "6475ca41-2f92-419d-85c8-38e8d7125e4c",
        "colab": {
          "base_uri": "https://localhost:8080/",
          "height": 34
        }
      },
      "source": [
        "from sklearn.metrics import mean_squared_error,r2_score\n",
        "\n",
        "r2_score(original_ytest.to_numpy(), pred)"
      ],
      "execution_count": null,
      "outputs": [
        {
          "output_type": "execute_result",
          "data": {
            "text/plain": [
              "0.6257351821159707"
            ]
          },
          "metadata": {
            "tags": []
          },
          "execution_count": 24
        }
      ]
    },
    {
      "cell_type": "code",
      "metadata": {
        "id": "9UvwUl_roJ8v",
        "outputId": "d98b6269-bc84-4b06-9ec4-4a64bb3605cb",
        "colab": {
          "base_uri": "https://localhost:8080/",
          "height": 34
        }
      },
      "source": [
        "from sklearn.metrics import mean_squared_error\n",
        "\n",
        "print(np.sqrt(mean_squared_error(original_ytest.to_numpy(), pred)))"
      ],
      "execution_count": null,
      "outputs": [
        {
          "output_type": "stream",
          "text": [
            "0.14439408480698354\n"
          ],
          "name": "stdout"
        }
      ]
    },
    {
      "cell_type": "code",
      "metadata": {
        "id": "YVszMBt9eE5G",
        "outputId": "4c1c0715-2f1c-41d1-cda9-e1506770cc1d",
        "colab": {
          "base_uri": "https://localhost:8080/",
          "height": 285
        }
      },
      "source": [
        "plt.plot(original_ytest, pred, '.')"
      ],
      "execution_count": null,
      "outputs": [
        {
          "output_type": "execute_result",
          "data": {
            "text/plain": [
              "[<matplotlib.lines.Line2D at 0x7fbe4f462240>]"
            ]
          },
          "metadata": {
            "tags": []
          },
          "execution_count": 26
        },
        {
          "output_type": "display_data",
          "data": {
            "image/png": "[encoded data removed]",
            "text/plain": [
              "<Figure size 432x288 with 1 Axes>"
            ]
          },
          "metadata": {
            "tags": [],
            "needs_background": "light"
          }
        }
      ]
    },
    {
      "cell_type": "code",
      "metadata": {
        "id": "baqhfTIxn_rs"
      },
      "source": [
        ""
      ],
      "execution_count": null,
      "outputs": []
    },
    {
      "cell_type": "code",
      "metadata": {
        "id": "hxRpGMHun_qs"
      },
      "source": [
        ""
      ],
      "execution_count": null,
      "outputs": []
    },
    {
      "cell_type": "markdown",
      "metadata": {
        "id": "0-0hGx1GoAn2"
      },
      "source": [
        "# LINEAR REGRESSION"
      ]
    },
    {
      "cell_type": "code",
      "metadata": {
        "id": "Jkb3SAVXjbco",
        "outputId": "ac54a74f-0889-4c1f-ce06-3f6668c482c3",
        "colab": {
          "base_uri": "https://localhost:8080/",
          "height": 34
        }
      },
      "source": [
        "#initantiate the linear regression\n",
        "linearRegModel = LinearRegression(n_jobs=-1)\n",
        "#fit the model to the training data (learn the coefficients)\n",
        "linearRegModel.fit(original_Xtrain, original_ytrain)\n",
        "#print the intercept and coefficients \n",
        "# print(\"Intercept is \"+str(linearRegModel.intercept_))\n",
        "# print(\"coefficients  is \"+str(linearRegModel.coef_))"
      ],
      "execution_count": null,
      "outputs": [
        {
          "output_type": "execute_result",
          "data": {
            "text/plain": [
              "LinearRegression(copy_X=True, fit_intercept=True, n_jobs=-1, normalize=False)"
            ]
          },
          "metadata": {
            "tags": []
          },
          "execution_count": 27
        }
      ]
    },
    {
      "cell_type": "code",
      "metadata": {
        "id": "8A2Bpl1umDnL"
      },
      "source": [
        "#predict on the test data\n",
        "y_pred = linearRegModel.predict(original_Xtest)"
      ],
      "execution_count": null,
      "outputs": []
    },
    {
      "cell_type": "code",
      "metadata": {
        "id": "VXawdaTUmJIu"
      },
      "source": [
        "# print(len(y_pred))\n",
        "# print(len(original_ytest)\n",
        "# print(y_pred[0:5])\n",
        "# print(original_ytest[0:5])"
      ],
      "execution_count": null,
      "outputs": []
    },
    {
      "cell_type": "code",
      "metadata": {
        "id": "MY0wJ4KhmR_8"
      },
      "source": [
        "# test = pd.DataFrame({'Predicted':y_pred,'Actual':y_test})\n",
        "# fig= plt.figure(figsize=(16,8))\n",
        "# test = test.reset_index()\n",
        "# test = test.drop(['index'],axis=1)\n",
        "# plt.plot(test[:50])\n",
        "# plt.legend(['Actual','Predicted'])\n",
        "# sns.jointplot(x='Actual',y='Predicted',data=test,kind='reg',);"
      ],
      "execution_count": null,
      "outputs": []
    },
    {
      "cell_type": "code",
      "metadata": {
        "id": "3wHNzGu5rrzs",
        "outputId": "c769ca6d-e62e-4c65-acfd-354e30a49f3c",
        "colab": {
          "base_uri": "https://localhost:8080/",
          "height": 34
        }
      },
      "source": [
        "# R-Square\n",
        "r2_score(original_ytest.to_numpy(), y_pred)"
      ],
      "execution_count": null,
      "outputs": [
        {
          "output_type": "execute_result",
          "data": {
            "text/plain": [
              "0.6257351821159707"
            ]
          },
          "metadata": {
            "tags": []
          },
          "execution_count": 31
        }
      ]
    },
    {
      "cell_type": "code",
      "metadata": {
        "id": "dHI31a7vmp9H",
        "outputId": "518c2a50-70f5-46b1-851a-62906f4fb248",
        "colab": {
          "base_uri": "https://localhost:8080/",
          "height": 52
        }
      },
      "source": [
        "#RMSE\n",
        "print(np.sqrt(mean_squared_error(original_ytest.to_numpy(),y_pred)))\n",
        "print(np.sqrt(mean_squared_error(original_ytrain,linearRegModel.predict(original_Xtrain))))\n"
      ],
      "execution_count": null,
      "outputs": [
        {
          "output_type": "stream",
          "text": [
            "0.14439408480698354\n",
            "0.1411003199299431\n"
          ],
          "name": "stdout"
        }
      ]
    },
    {
      "cell_type": "markdown",
      "metadata": {
        "id": "jRQUYt0Pn5ZS"
      },
      "source": [
        "# DECISION TREE"
      ]
    },
    {
      "cell_type": "code",
      "metadata": {
        "id": "D7R_s2XRn3M-",
        "outputId": "c2756655-eafa-405e-c43e-2490b369bf20",
        "colab": {
          "base_uri": "https://localhost:8080/",
          "height": 123
        }
      },
      "source": [
        "from sklearn.tree import DecisionTreeRegressor\n",
        "\n",
        "dtReg = DecisionTreeRegressor(max_depth=9)\n",
        "dtReg.fit(original_Xtrain, original_ytrain)"
      ],
      "execution_count": null,
      "outputs": [
        {
          "output_type": "execute_result",
          "data": {
            "text/plain": [
              "DecisionTreeRegressor(ccp_alpha=0.0, criterion='mse', max_depth=9,\n",
              "                      max_features=None, max_leaf_nodes=None,\n",
              "                      min_impurity_decrease=0.0, min_impurity_split=None,\n",
              "                      min_samples_leaf=1, min_samples_split=2,\n",
              "                      min_weight_fraction_leaf=0.0, presort='deprecated',\n",
              "                      random_state=None, splitter='best')"
            ]
          },
          "metadata": {
            "tags": []
          },
          "execution_count": 33
        }
      ]
    },
    {
      "cell_type": "code",
      "metadata": {
        "id": "ltYdPJu3oJNW",
        "outputId": "e37e752d-136a-465d-d138-33c8d468e670",
        "colab": {
          "base_uri": "https://localhost:8080/",
          "height": 52
        }
      },
      "source": [
        "dtReg_y_pred = dtReg.predict(original_Xtest)\n",
        "dtReg_y_pred"
      ],
      "execution_count": null,
      "outputs": [
        {
          "output_type": "execute_result",
          "data": {
            "text/plain": [
              "array([0.08833188, 0.11068889, 0.8554078 , ..., 0.99801651, 0.12950527,\n",
              "       0.41897946])"
            ]
          },
          "metadata": {
            "tags": []
          },
          "execution_count": 34
        }
      ]
    },
    {
      "cell_type": "code",
      "metadata": {
        "id": "av4TAkTeoR6P"
      },
      "source": [
        "# print(len(dtReg_y_pred))\n",
        "# print(len(original_ytest)\n",
        "# print(dtReg_y_pred[0:5])\n",
        "# print(original_ytest[0:5])"
      ],
      "execution_count": null,
      "outputs": []
    },
    {
      "cell_type": "code",
      "metadata": {
        "id": "My-9vnb3r6tg",
        "outputId": "e855bddd-8d84-47bc-e4de-37d7bdfe4d10",
        "colab": {
          "base_uri": "https://localhost:8080/",
          "height": 34
        }
      },
      "source": [
        "# R-Square\n",
        "r2_score(original_ytest.to_numpy(), dtReg_y_pred)"
      ],
      "execution_count": null,
      "outputs": [
        {
          "output_type": "execute_result",
          "data": {
            "text/plain": [
              "0.7101426754850687"
            ]
          },
          "metadata": {
            "tags": []
          },
          "execution_count": 36
        }
      ]
    },
    {
      "cell_type": "code",
      "metadata": {
        "id": "P1jIDq4RoXYj",
        "outputId": "20a4f6da-1eb7-4f1e-9039-07c6e02cef57",
        "colab": {
          "base_uri": "https://localhost:8080/",
          "height": 52
        }
      },
      "source": [
        "\n",
        "#RMSE\n",
        "\n",
        "print(np.sqrt(mean_squared_error(original_ytest.to_numpy(),dtReg_y_pred)))\n",
        "print(np.sqrt(mean_squared_error(original_ytrain,dtReg.predict(original_Xtrain))))\n"
      ],
      "execution_count": null,
      "outputs": [
        {
          "output_type": "stream",
          "text": [
            "0.12707263630734741\n",
            "0.10846830910056257\n"
          ],
          "name": "stdout"
        }
      ]
    },
    {
      "cell_type": "code",
      "metadata": {
        "id": "2y5KVme6ogIl"
      },
      "source": [
        ""
      ],
      "execution_count": null,
      "outputs": []
    },
    {
      "cell_type": "markdown",
      "metadata": {
        "id": "AGQ8DC6LohDz"
      },
      "source": [
        "# RANDOM FOREST"
      ]
    },
    {
      "cell_type": "code",
      "metadata": {
        "id": "KEaFL3U3ojsq",
        "outputId": "23d10281-c450-4baf-ed92-dfcfa746ec51",
        "colab": {
          "base_uri": "https://localhost:8080/",
          "height": 141
        }
      },
      "source": [
        "from sklearn.ensemble import RandomForestRegressor\n",
        "\n",
        "rfReg = RandomForestRegressor(30)\n",
        "rfReg.fit(original_Xtrain, original_ytrain)"
      ],
      "execution_count": null,
      "outputs": [
        {
          "output_type": "execute_result",
          "data": {
            "text/plain": [
              "RandomForestRegressor(bootstrap=True, ccp_alpha=0.0, criterion='mse',\n",
              "                      max_depth=None, max_features='auto', max_leaf_nodes=None,\n",
              "                      max_samples=None, min_impurity_decrease=0.0,\n",
              "                      min_impurity_split=None, min_samples_leaf=1,\n",
              "                      min_samples_split=2, min_weight_fraction_leaf=0.0,\n",
              "                      n_estimators=30, n_jobs=None, oob_score=False,\n",
              "                      random_state=None, verbose=0, warm_start=False)"
            ]
          },
          "metadata": {
            "tags": []
          },
          "execution_count": 38
        }
      ]
    },
    {
      "cell_type": "code",
      "metadata": {
        "id": "y6iNY96eon-t",
        "outputId": "e9a93d9e-5162-4bf6-fe62-76a424123b10",
        "colab": {
          "base_uri": "https://localhost:8080/",
          "height": 52
        }
      },
      "source": [
        "rfReg_y_pred = rfReg.predict(original_Xtest)\n",
        "rfReg_y_pred\n"
      ],
      "execution_count": null,
      "outputs": [
        {
          "output_type": "execute_result",
          "data": {
            "text/plain": [
              "array([0.07700633, 0.12693567, 0.91724281, ..., 0.9999984 , 0.11007034,\n",
              "       0.32136843])"
            ]
          },
          "metadata": {
            "tags": []
          },
          "execution_count": 39
        }
      ]
    },
    {
      "cell_type": "code",
      "metadata": {
        "id": "raVwJOoWrML4"
      },
      "source": [
        "# print(len(rfReg_y_pred))\n",
        "# print(len(original_ytest)\n",
        "# print(rfReg_y_pred[0:5])\n",
        "# print(original_ytest[0:5])"
      ],
      "execution_count": null,
      "outputs": []
    },
    {
      "cell_type": "code",
      "metadata": {
        "id": "mZHduWhQraDn",
        "outputId": "89f39b6c-4d16-4564-b39e-de4d5c3761ed",
        "colab": {
          "base_uri": "https://localhost:8080/",
          "height": 34
        }
      },
      "source": [
        "# R-Square\n",
        "r2_score(original_ytest.to_numpy(), rfReg_y_pred)"
      ],
      "execution_count": null,
      "outputs": [
        {
          "output_type": "execute_result",
          "data": {
            "text/plain": [
              "0.810794242325245"
            ]
          },
          "metadata": {
            "tags": []
          },
          "execution_count": 41
        }
      ]
    },
    {
      "cell_type": "code",
      "metadata": {
        "id": "Q2-p07gaouZY",
        "outputId": "3aadc87d-e865-4ab3-b614-b97f0461e255",
        "colab": {
          "base_uri": "https://localhost:8080/",
          "height": 52
        }
      },
      "source": [
        "#RMSE\n",
        "\n",
        "print(np.sqrt(mean_squared_error(original_ytest.to_numpy(),rfReg_y_pred)))\n",
        "print(np.sqrt(mean_squared_error(original_ytrain,rfReg.predict(original_Xtrain))))"
      ],
      "execution_count": null,
      "outputs": [
        {
          "output_type": "stream",
          "text": [
            "0.10266610233657172\n",
            "0.03981082601676534\n"
          ],
          "name": "stdout"
        }
      ]
    },
    {
      "cell_type": "code",
      "metadata": {
        "id": "kKOvkQHOrJeJ",
        "outputId": "91b7002b-3666-47ce-b36c-4c609e0ef208",
        "colab": {
          "base_uri": "https://localhost:8080/",
          "height": 141
        }
      },
      "source": [
        "#REGULATE\n",
        "\n",
        "rfReg = RandomForestRegressor(30,max_depth=200,random_state=0)\n",
        "rfReg.fit(original_Xtrain, original_ytrain)"
      ],
      "execution_count": null,
      "outputs": [
        {
          "output_type": "execute_result",
          "data": {
            "text/plain": [
              "RandomForestRegressor(bootstrap=True, ccp_alpha=0.0, criterion='mse',\n",
              "                      max_depth=200, max_features='auto', max_leaf_nodes=None,\n",
              "                      max_samples=None, min_impurity_decrease=0.0,\n",
              "                      min_impurity_split=None, min_samples_leaf=1,\n",
              "                      min_samples_split=2, min_weight_fraction_leaf=0.0,\n",
              "                      n_estimators=30, n_jobs=None, oob_score=False,\n",
              "                      random_state=0, verbose=0, warm_start=False)"
            ]
          },
          "metadata": {
            "tags": []
          },
          "execution_count": 43
        }
      ]
    },
    {
      "cell_type": "code",
      "metadata": {
        "id": "Ndyou_ARSKUz",
        "outputId": "eb295e9a-d655-4610-cbc4-e112cc225513",
        "colab": {
          "base_uri": "https://localhost:8080/",
          "height": 52
        }
      },
      "source": [
        "rfReg_y_pred = rfReg.predict(original_Xtest)\n",
        "rfReg_y_pred"
      ],
      "execution_count": null,
      "outputs": [
        {
          "output_type": "execute_result",
          "data": {
            "text/plain": [
              "array([0.08596803, 0.11075533, 0.91787538, ..., 0.99243811, 0.11200646,\n",
              "       0.30300425])"
            ]
          },
          "metadata": {
            "tags": []
          },
          "execution_count": 44
        }
      ]
    },
    {
      "cell_type": "code",
      "metadata": {
        "id": "0uO1vsZsSO2J",
        "outputId": "881a6583-ae89-4970-b2bc-4415100faccc",
        "colab": {
          "base_uri": "https://localhost:8080/",
          "height": 34
        }
      },
      "source": [
        "# R2\n",
        "\n",
        "r2_score(original_ytest.to_numpy(), rfReg_y_pred)"
      ],
      "execution_count": null,
      "outputs": [
        {
          "output_type": "execute_result",
          "data": {
            "text/plain": [
              "0.8117608218427663"
            ]
          },
          "metadata": {
            "tags": []
          },
          "execution_count": 45
        }
      ]
    },
    {
      "cell_type": "code",
      "metadata": {
        "id": "xgrVod_nSTNO",
        "outputId": "9d4290de-8ead-486d-e2e6-8fd13ef3056a",
        "colab": {
          "base_uri": "https://localhost:8080/",
          "height": 52
        }
      },
      "source": [
        "#RMSE\n",
        "\n",
        "print(np.sqrt(mean_squared_error(original_ytest.to_numpy(),rfReg_y_pred)))\n",
        "print(np.sqrt(mean_squared_error(original_ytrain,rfReg.predict(original_Xtrain))))"
      ],
      "execution_count": null,
      "outputs": [
        {
          "output_type": "stream",
          "text": [
            "0.102403525721676\n",
            "0.03961598457571588\n"
          ],
          "name": "stdout"
        }
      ]
    },
    {
      "cell_type": "code",
      "metadata": {
        "id": "gnlh6bhoSjb-"
      },
      "source": [
        ""
      ],
      "execution_count": null,
      "outputs": []
    }
  ]
}